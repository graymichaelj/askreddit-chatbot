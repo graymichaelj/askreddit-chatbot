{
 "cells": [
  {
   "cell_type": "code",
   "execution_count": 1,
   "metadata": {
    "ExecuteTime": {
     "end_time": "2020-09-30T02:16:48.937291Z",
     "start_time": "2020-09-30T02:16:48.925110Z"
    }
   },
   "outputs": [
    {
     "name": "stderr",
     "output_type": "stream",
     "text": [
      "[nltk_data] Downloading package punkt to\n",
      "[nltk_data]     /Users/michael.gray/nltk_data...\n",
      "[nltk_data]   Package punkt is already up-to-date!\n",
      "/Users/michael.gray/UNCCwork/simple-chatbot/env/lib/python3.10/site-packages/tqdm/auto.py:22: TqdmWarning: IProgress not found. Please update jupyter and ipywidgets. See https://ipywidgets.readthedocs.io/en/stable/user_install.html\n",
      "  from .autonotebook import tqdm as notebook_tqdm\n"
     ]
    }
   ],
   "source": [
    "import argparse\n",
    "import glob\n",
    "import os\n",
    "import json\n",
    "import time\n",
    "import logging\n",
    "import random\n",
    "import re\n",
    "from itertools import chain\n",
    "from string import punctuation\n",
    "\n",
    "import nltk\n",
    "nltk.download('punkt')\n",
    "from nltk.tokenize import sent_tokenize\n",
    "\n",
    "import pandas as pd\n",
    "import numpy as np\n",
    "import torch\n",
    "import pytorch_lightning as pl\n",
    "from torch.utils.data import Dataset, DataLoader\n",
    "from pytorch_lightning.loggers import WandbLogger\n",
    "from nlp import load_metric\n",
    "import string\n",
    "from pathlib import Path\n",
    "from transformers import (\n",
    "    AdamW,\n",
    "    Adafactor,\n",
    "    T5ForConditionalGeneration,\n",
    "    T5Tokenizer,\n",
    "    T5Config,\n",
    "    get_linear_schedule_with_warmup\n",
    ")\n",
    "from torch.utils.data import RandomSampler"
   ]
  },
  {
   "cell_type": "code",
   "execution_count": null,
   "metadata": {},
   "outputs": [],
   "source": [
    "## Login to WandB and get your API Key\n",
    "!wandb login"
   ]
  },
  {
   "cell_type": "code",
   "execution_count": 201,
   "metadata": {
    "ExecuteTime": {
     "end_time": "2020-09-30T02:16:48.946040Z",
     "start_time": "2020-09-30T02:16:48.939519Z"
    }
   },
   "outputs": [],
   "source": [
    "import wandb\n",
    "YOUR_KEY = ''\n",
    "os.environ[\"WANDB_API_KEY\"] = YOUR_KEY\n",
    "wandb_logger = WandbLogger(project='closedbook-triviaqa')\n",
    "# wandb.init(project=\"transformers_tutorials_summarization\")"
   ]
  },
  {
   "cell_type": "markdown",
   "metadata": {},
   "source": [
    "## Load Data using NLP Library"
   ]
  },
  {
   "cell_type": "code",
   "execution_count": null,
   "metadata": {
    "ExecuteTime": {
     "end_time": "2020-09-30T02:16:49.325849Z",
     "start_time": "2020-09-30T02:16:48.948065Z"
    }
   },
   "outputs": [],
   "source": [
    "from nlp import list_datasets\n",
    "datasets_list = list_datasets()\n",
    "print(', '.join(dataset.id for dataset in datasets_list))"
   ]
  },
  {
   "cell_type": "markdown",
   "metadata": {},
   "source": [
    "### Select Trivia QA data set\n",
    "See more about it at - https://www.tensorflow.org/datasets/catalog/trivia_qa"
   ]
  },
  {
   "cell_type": "code",
   "execution_count": 2,
   "metadata": {
    "ExecuteTime": {
     "end_time": "2020-09-30T02:16:49.726602Z",
     "start_time": "2020-09-30T02:16:49.329660Z"
    }
   },
   "outputs": [],
   "source": [
    "from nlp import load_dataset\n",
    "dataset = load_dataset('trivia_qa', 'unfiltered.nocontext')"
   ]
  },
  {
   "cell_type": "code",
   "execution_count": 3,
   "metadata": {
    "ExecuteTime": {
     "end_time": "2020-09-30T02:16:49.730983Z",
     "start_time": "2020-09-30T02:16:49.728086Z"
    }
   },
   "outputs": [
    {
     "name": "stdout",
     "output_type": "stream",
     "text": [
      "dict_keys(['train', 'validation', 'test'])\n"
     ]
    }
   ],
   "source": [
    "print(dataset.keys())"
   ]
  },
  {
   "cell_type": "code",
   "execution_count": 4,
   "metadata": {
    "ExecuteTime": {
     "end_time": "2020-09-30T02:16:49.735861Z",
     "start_time": "2020-09-30T02:16:49.732451Z"
    }
   },
   "outputs": [
    {
     "name": "stdout",
     "output_type": "stream",
     "text": [
      "Size of train dataset:  (87622, 6)\n"
     ]
    }
   ],
   "source": [
    "print(\"Size of train dataset: \", dataset['train'].shape)"
   ]
  },
  {
   "cell_type": "code",
   "execution_count": 5,
   "metadata": {
    "ExecuteTime": {
     "end_time": "2020-09-30T02:16:49.742998Z",
     "start_time": "2020-09-30T02:16:49.736881Z"
    }
   },
   "outputs": [
    {
     "name": "stdout",
     "output_type": "stream",
     "text": [
      "Size of Validation dataset:  (11313, 6)\n"
     ]
    }
   ],
   "source": [
    "print(\"Size of Validation dataset: \", dataset['validation'].shape)"
   ]
  },
  {
   "cell_type": "markdown",
   "metadata": {},
   "source": [
    "We can use the test data set for validation"
   ]
  },
  {
   "cell_type": "code",
   "execution_count": 6,
   "metadata": {
    "ExecuteTime": {
     "end_time": "2020-09-30T02:16:49.748588Z",
     "start_time": "2020-09-30T02:16:49.744564Z"
    }
   },
   "outputs": [
    {
     "name": "stdout",
     "output_type": "stream",
     "text": [
      "Size of ca test dataset:  (10832, 6)\n"
     ]
    }
   ],
   "source": [
    "print(\"Size of ca test dataset: \", dataset['test'].shape)"
   ]
  },
  {
   "cell_type": "markdown",
   "metadata": {},
   "source": [
    "### Look at Examples in this data set"
   ]
  },
  {
   "cell_type": "code",
   "execution_count": 7,
   "metadata": {
    "ExecuteTime": {
     "end_time": "2020-09-30T02:16:49.752631Z",
     "start_time": "2020-09-30T02:16:49.749858Z"
    }
   },
   "outputs": [
    {
     "name": "stdout",
     "output_type": "stream",
     "text": [
      "dict_keys(['answer', 'entity_pages', 'question', 'question_id', 'question_source', 'search_results'])\n"
     ]
    }
   ],
   "source": [
    "print(dataset['train'][0].keys())"
   ]
  },
  {
   "cell_type": "code",
   "execution_count": 8,
   "metadata": {},
   "outputs": [],
   "source": [
    "train = dataset['train']"
   ]
  },
  {
   "cell_type": "code",
   "execution_count": 34,
   "metadata": {},
   "outputs": [
    {
     "data": {
      "text/plain": [
       "nlp.dataset_dict.DatasetDict"
      ]
     },
     "execution_count": 34,
     "metadata": {},
     "output_type": "execute_result"
    }
   ],
   "source": [
    "type(dataset)"
   ]
  },
  {
   "cell_type": "code",
   "execution_count": 14,
   "metadata": {},
   "outputs": [
    {
     "data": {
      "text/plain": [
       "{'description': [],\n",
       " 'filename': [],\n",
       " 'rank': [],\n",
       " 'search_context': [],\n",
       " 'title': [],\n",
       " 'url': []}"
      ]
     },
     "execution_count": 14,
     "metadata": {},
     "output_type": "execute_result"
    }
   ],
   "source": [
    "train[0]['search_results']"
   ]
  },
  {
   "cell_type": "code",
   "execution_count": 15,
   "metadata": {
    "ExecuteTime": {
     "end_time": "2020-09-30T02:16:49.757758Z",
     "start_time": "2020-09-30T02:16:49.753549Z"
    }
   },
   "outputs": [
    {
     "name": "stdout",
     "output_type": "stream",
     "text": [
      " Example of Question:  From which country did Angola achieve independence in 1975?\n"
     ]
    }
   ],
   "source": [
    "print(\" Example of Question: \", dataset['train'][6]['question'])"
   ]
  },
  {
   "cell_type": "code",
   "execution_count": 16,
   "metadata": {
    "ExecuteTime": {
     "end_time": "2020-09-30T02:16:49.763131Z",
     "start_time": "2020-09-30T02:16:49.758717Z"
    }
   },
   "outputs": [
    {
     "name": "stdout",
     "output_type": "stream",
     "text": [
      " Example of Answer:  {'aliases': ['Portogało', 'Republic of Portugal', 'PORTUGAL', 'Portekiz', 'Portugallu', 'O Papagaio', 'ISO 3166-1:PT', 'Portunga', 'Phu-to-ga', 'Potigal', 'Portûnga', 'Portugul', 'An Phortaingéil', 'Portugāle', 'Portugale', 'Portingale', 'Potiti', 'Portugali', 'Portugall', 'Portekîz', 'Bo Dao Nha', 'Portuguese Republic', 'Portogallo', 'Portugaul', 'Portogalo', 'Portyngal', 'Yn Phortiugal', 'Portugalio', 'Portugál', 'Portugual', 'Portuga', 'Portgual', 'Portugalsko', 'Portugaleje', 'Phû-tô-gâ', 'Portugalujo', 'Portugalija', 'Pertual', 'Pòtigal', 'Portugal', 'Bồ Đào Nha', 'Portugalska', 'República Portuguesa', 'Portiwgal', 'Portugalėjė', 'Portúgal', 'Portegal', 'An Phortaingeil', 'Republica Portuguesa'], 'matched_wiki_entity_name': '', 'normalized_aliases': ['portûnga', 'portugalujo', 'portogalo', 'portiwgal', 'portugalio', 'portugalija', 'república portuguesa', 'portugāle', 'portugalėjė', 'portugaleje', 'portgual', 'potigal', 'portugallu', 'portogało', 'phortaingéil', 'portingale', 'portekîz', 'portugual', 'portugale', 'portugalska', 'yn phortiugal', 'portúgal', 'portugal', 'portugaul', 'phû tô gâ', 'portyngal', 'portunga', 'pertual', 'portugall', 'phortaingeil', 'portuguese republic', 'republica portuguesa', 'portekiz', 'iso 3166 1 pt', 'portugál', 'portuga', 'o papagaio', 'republic of portugal', 'bồ đào nha', 'potiti', 'phu to ga', 'portugalsko', 'pòtigal', 'portegal', 'portugul', 'portugali', 'portogallo', 'bo dao nha'], 'normalized_matched_wiki_entity_name': '', 'normalized_value': 'portugal', 'type': 'WikipediaEntity', 'value': 'Portugal'}\n"
     ]
    }
   ],
   "source": [
    "print(\" Example of Answer: \", dataset['train'][6]['answer'])"
   ]
  },
  {
   "cell_type": "code",
   "execution_count": 17,
   "metadata": {
    "ExecuteTime": {
     "end_time": "2020-09-30T02:16:49.767864Z",
     "start_time": "2020-09-30T02:16:49.764091Z"
    }
   },
   "outputs": [
    {
     "name": "stdout",
     "output_type": "stream",
     "text": [
      " Example of Search Results:  {'description': [], 'filename': [], 'rank': [], 'search_context': [], 'title': [], 'url': []}\n"
     ]
    }
   ],
   "source": [
    "print(\" Example of Search Results: \", dataset['train'][6]['search_results'])"
   ]
  },
  {
   "cell_type": "markdown",
   "metadata": {},
   "source": [
    "### Inputs for T5 Model\n",
    "Since this is a closed book question answering problem, we will take as input the question and fine tune the model to output the answer"
   ]
  },
  {
   "cell_type": "markdown",
   "metadata": {},
   "source": [
    "### Estimate average length of Question and Answer"
   ]
  },
  {
   "cell_type": "code",
   "execution_count": 18,
   "metadata": {
    "ExecuteTime": {
     "end_time": "2020-09-30T02:16:49.774619Z",
     "start_time": "2020-09-30T02:16:49.768802Z"
    }
   },
   "outputs": [
    {
     "name": "stderr",
     "output_type": "stream",
     "text": [
      "100%|██████████| 1/1 [00:00<00:00, 46.20it/s]\n"
     ]
    }
   ],
   "source": [
    "tiny_dataset = dataset['train'].select(list(range(0, 100)))\n",
    "ques_len = []\n",
    "ans_len=[]"
   ]
  },
  {
   "cell_type": "code",
   "execution_count": 33,
   "metadata": {},
   "outputs": [
    {
     "data": {
      "text/plain": [
       "'William Shatner'"
      ]
     },
     "execution_count": 33,
     "metadata": {},
     "output_type": "execute_result"
    }
   ],
   "source": [
    "tiny_dataset[58]['answer']['value']"
   ]
  },
  {
   "cell_type": "code",
   "execution_count": 35,
   "metadata": {},
   "outputs": [],
   "source": [
    "import pickle\n",
    "with open(\"post_titles\", \"rb\") as fp:   # Unpickling\n",
    "\tb = pickle.load(fp)"
   ]
  },
  {
   "cell_type": "code",
   "execution_count": 37,
   "metadata": {},
   "outputs": [
    {
     "data": {
      "text/plain": [
       "['What’s something you can do that looks impressive but is really easy?',\n",
       " \"Parents who've lost a child and we're given the chance to hold them prior to the autopsy. Did you? Do you regret your choice?\",\n",
       " \"What's that one time the whole movie theatre just couldn't hold in their laughter?\",\n",
       " 'What is a fashion trend that you dislike?',\n",
       " \"What film will you break up with your significant other if they don't like it?\",\n",
       " \"An artist is drawing his female OC doing various tasks and says he's open to suggestions. What do you suggest he draw her doing?\",\n",
       " \"When you rent an apartment, are you allowed to install a security system without the owner's permission?\",\n",
       " 'What happens if someone in America gets worms but has no health insurance? Do they just have to out eat the worms?',\n",
       " 'What makes a tv show “woke”?',\n",
       " 'People who met their significant other online and began their relationship in a long distance situation, how’s your relationship going now?',\n",
       " 'How’s your Valentine’s Day going?',\n",
       " 'What is the female equivalent of getting head?',\n",
       " 'Did you ever walk in on someone masturbating? What happened after?',\n",
       " 'What’s a cringy thing you did as a middle/ elementary schooler?',\n",
       " 'People who were suicidal what was it that keeped you going?',\n",
       " 'was bob saget murdered and why?',\n",
       " 'If you could meet anyone in the world who would u meet and why?',\n",
       " '[Serious] What is the best way to improve mental and physical health?',\n",
       " 'How long have you been dead inside?',\n",
       " 'Which actors and actresses are getting by on their looks more than talent?',\n",
       " 'With the possibility of WWIII happening, would you join the military if the draft was enabled? If so why or why not?',\n",
       " 'What’s the most random cinematic crossover you can think of?',\n",
       " 'There is lots of “don’t do” but what is the best way for guys to approach girls ?',\n",
       " 'Form when you started warching porn ?',\n",
       " 'What are you single people doing tonight for Valentine’s Day?',\n",
       " 'What do you know about Asia?',\n",
       " 'What are your thoughts on long distance relationships?',\n",
       " \"What's the grossest thing you've seen on public transport?\",\n",
       " 'Everyone on Reddit, How’s Valentines day going?',\n",
       " 'Who and what is god?',\n",
       " 'How do you know for sure when someone is lying to you?',\n",
       " 'What would you do if your high school teacher took one mark off your test score and said “no one gets hundreds in my class”?',\n",
       " 'What are some of the best songs to “slow dance in the kitchen” to?',\n",
       " 'How do you keep the depression at bay?',\n",
       " 'What are some of the things men have to deal with?',\n",
       " 'What are everyone’s hobbies and passions?',\n",
       " \"What's your biggest turn on?\",\n",
       " 'People with genital piercings: Why?',\n",
       " 'Sexy sports people, what do you think of a 8inch+ penis being used for a putting-stick in golf?',\n",
       " 'What gives you pain and excites you at the same time?',\n",
       " 'What did you do on your first date?',\n",
       " 'What’s the best thing a woman can do to support a man when he experiences a death in the family?',\n",
       " 'Bias or not, what is Arguably the best Call of Duty ever released and what makes it the best?',\n",
       " 'What was your previous dream?',\n",
       " 'What’s something that feels right but you know is wrong?',\n",
       " 'How do you defeated the suicide thoughts?',\n",
       " 'What did you think would happen?',\n",
       " 'what is your favourite pet, and why is it a cat ?',\n",
       " 'Single people of Reddit, how is your Valentines Day going?',\n",
       " 'What do you love about your significant other?',\n",
       " 'Which fruit is the biggest asshole?',\n",
       " 'Who is a monster?',\n",
       " 'Which band started out strong but eventually got worse over time?',\n",
       " \"What is the most luck you've ever experienced?\",\n",
       " 'What is the full form of WWW ??',\n",
       " \"What is your favorite valentine's chocolate?\",\n",
       " \"Where to buy men's leather dress shoes under $100 or complete crap?\",\n",
       " 'The search engine “Yahoo” is known for being comically bad at giving you search results. What’s also something or someone that is really bad at what it/they do?',\n",
       " 'Are job interviews held as groups (you+various staff) intimidating to you and why?',\n",
       " 'People who were randomly dumped after years of dating someone they thought was “the one”: what happened?',\n",
       " 'At what point is apologizing selfish?',\n",
       " 'You have the chance to meet your duplicate; same mind, memories and all: what would you do?',\n",
       " 'Who is the hottest place in hell reserved for ?',\n",
       " 'people on the dark web, what is the craziest, ugliest etc things you saw?',\n",
       " 'People who lost their virginity before high school, what the fuck happened?',\n",
       " 'What would happen if all the languages in the world disappeared tomorrow and everyone only spoke English?',\n",
       " 'At what point did you realize that social media was actually changing the whole world?',\n",
       " 'Who is the strongest Disney/Pixar character?',\n",
       " 'whats a stereotype people often assume about you?',\n",
       " 'What town/city in the USA would you never EVER live in?',\n",
       " 'If you could live in any country in the world where would it be and why?',\n",
       " 'What is one song you can’t get out of your head this week?',\n",
       " \"Under 5'2 drivers- What vehicle has been the most comfortable/ accommodating you've owned or driven?\",\n",
       " 'What were you ashamed of doing when you were a child?',\n",
       " 'Blue collar workers, what’s the worst accident you’ve seen on a job site?',\n",
       " 'Where can we watch any movie or series for free?',\n",
       " 'Seriously though - who let the dogs out?',\n",
       " 'What country would you never ever live in?',\n",
       " 'What’s the best campaign game in your opinion?.',\n",
       " \"What's your favorite mind-altering substance?\",\n",
       " 'What was your biggest fear when you were a child?',\n",
       " 'What is something that you wish someone would ask you , and have time to talk about ?',\n",
       " 'What is the equivalent of a boner to women?',\n",
       " 'How do you get revenge without actually exposing yourself?',\n",
       " 'What is something you started doing at a young age but is still useful today?',\n",
       " 'If you were about to be left on an empty island with just one woman - who would that be?',\n",
       " 'what are the two type of people you do not like?',\n",
       " 'What is a better word or phrase to describe the perpetually funny phenomenon known as “queefing”?',\n",
       " 'What is the object that you sexually fancy and why?',\n",
       " 'What are your thoughts of what’s happening between Ukraine and Russia? What is going to become of this?war?',\n",
       " \"What's a facf that's really thought-provoking?\",\n",
       " 'How was your Valentines Day this year?',\n",
       " 'What’s the strangest thing you found at a thrift store?',\n",
       " 'Men who have experienced domestic abuse, what happened?',\n",
       " 'What m/f musician/s do you think would still be relevant had they not died when they did?',\n",
       " 'Teachers of Reddit, what’s the most offensive thing a student has said to you?',\n",
       " 'What is a movie that is so underrated?',\n",
       " 'Are you having a good Valentine’s Day, if not what’s wrong?',\n",
       " 'People of reddit, what are some of your disabilities?',\n",
       " 'For men who get hit by their female partners during an argument, How do you cope?',\n",
       " 'What’s something you don’t like that everyone else seems to love?',\n",
       " 'In your own words, how young are you?',\n",
       " 'What do you do that makes no logical sense?',\n",
       " 'In your own words, how old are you?',\n",
       " 'Who wins Master Yoda vs Master Oogway?',\n",
       " \"What's your favorite Valentine's Day story/memory?\",\n",
       " 'You’ve been marked for termination under order 66, how do you survive?',\n",
       " 'If you were forced to give oral to a cartoon character, who would it be?',\n",
       " 'What is something you’ve wanted to save up for but haven’t been sure about?',\n",
       " \"To all the married folk, why aren't you getting laid tonight on this made up day that's supposed to inspire love?\",\n",
       " 'What’s the reason America paints Russia and China as the biggest threat to the world when it’s been invading and destroying the Middle East and staging coups around the world for decades?',\n",
       " 'What are things you do to clear your mind and relax?',\n",
       " 'What was the worst/most awkward sex you’ve ever had? Why?',\n",
       " 'whats a weird food combo you swear by?',\n",
       " 'What is your favorite album and why?',\n",
       " 'What are some female problems men don’t understand?',\n",
       " 'What was one unexpectedly badass moment you had in school?',\n",
       " 'What is something that makes you cringe?',\n",
       " 'What are some male problems females done understand?',\n",
       " 'Bilinguals of Reddit, what language do you think in?',\n",
       " \"What's something weird that you love?\",\n",
       " 'To all snow consumers, what kinds of hallucinations do you get?',\n",
       " 'What does real accountability look like to you?',\n",
       " 'How do you feel about being a monkey?',\n",
       " 'How do large scale aquariums keep the sharks and other fish from being aggressive with the others?',\n",
       " 'Submissive women of Reddit, what erotica do you like to read?',\n",
       " 'Reasonably speaking, how many clones of Mark Zuckerberg could you take in a fight?',\n",
       " 'What’s the surest way to shut up a gaslighting supervisor?',\n",
       " 'what kind of music do people listen to?',\n",
       " 'What’s the biggest mistake you made as a new Redditor?',\n",
       " 'You have to live with hallucinations everyday of your famous celebrities voices in your head, it is incurable. So what celebrity would you choose to have, and who do you think would absolutely be funny?',\n",
       " 'For what reason do most here seem unable to answer controversial theoretical questions and instead argue the premise or make assumptions about the poster?',\n",
       " 'What are you drinking tonight?',\n",
       " 'How is everyone feeling about Russia and Ukraine?',\n",
       " \"(serious) Who is the most evil person you've ever met?\",\n",
       " 'If you take all the money humanity has been throwing in the trash under the name of space exploration and re-direct it somewhere else, how would you like to see these funds better utilized?',\n",
       " 'As an Australian what should you do at least once in your lifetime?',\n",
       " \"boys what does the girl do for you on valentine's day?\",\n",
       " 'It’s Valentines Day, what are you doing?',\n",
       " 'What animal would you have as a pet if you could have any pet domesticated?',\n",
       " 'What is the quickest you’ve ever seen a colleague get fired, and for what?',\n",
       " 'What is a red flag when crushing on someone?',\n",
       " \"What do you think about putting yourself in harm's way to save a girl even get killed do you think worth it?\",\n",
       " 'What is an RPG trait you wish you could level up on yourself?',\n",
       " 'Why would narcissists be considered unable to convey basic human emotions?',\n",
       " 'What are your feelings about open relationships?',\n",
       " 'Owners of pick-up trucks , how often do you make use of the box ?',\n",
       " 'What is going to happen in the future?',\n",
       " 'What does a healthy relationship look like/feel like, for those of us who never experienced it?',\n",
       " 'If you could ask AskReddit anything, what would you ask AskReddit about?',\n",
       " 'What is the most famous animal in history?',\n",
       " 'People who experience racism, what’s that like?',\n",
       " 'How are your parents crazy?',\n",
       " 'Someone licks your nuts. How do you tell them to leave your cashew store?',\n",
       " \"What's the most intense night of drinking you've ever had?\",\n",
       " 'What is your greatest insecurity?',\n",
       " 'Americans. What is a question you have for someone from England ?',\n",
       " 'What is your cringiest memory?',\n",
       " \"What initially sounds like a good idea but doesn't work well in reality?\",\n",
       " 'What song gives you an eargasm?',\n",
       " 'What do you absolutely hate?',\n",
       " \"Why has 'bespoke' replaced the use of 'custom'?\",\n",
       " 'What is the dumbest thing that is a \"must\" for you in your soulmate?',\n",
       " '[Serious]How did you get rid of your dry cough?',\n",
       " 'What do you want your Valentine to wear for you today?',\n",
       " \"What is something you don't remember learning but it just feels like you have always known it?\",\n",
       " 'There is a total certainty you will die in 6 months. What would you do with your remaining 180 days?',\n",
       " 'What’s the best taco topping?',\n",
       " 'What is it like watching someone die, up close?',\n",
       " 'what is the best cake everyone should taste at least once?',\n",
       " 'If you were ruler of your own country what would be the first law you introduced?',\n",
       " 'What is the most underrated snack?',\n",
       " 'If your pet boar ate a family member and grew larger because of it, would you keep the boar around to remember the family member? What would you do?',\n",
       " 'What is your worst fear?',\n",
       " 'Whats a show/movie you wish you would forget so that you could re-watch it?',\n",
       " 'Americans, what are situations where you feel like giving a tip is absolutely unnecessary?',\n",
       " \"What needs to be done if someone can't sleep due to dizziness and covid?\",\n",
       " 'Girlfriends of Reddit what was the moment your nice,calm, and collected man finally lost it?',\n",
       " 'What is your least favorite car make and model that you see on daily basis and why do you dislike these drivers?',\n",
       " 'What did you feel when you saw a dead body?',\n",
       " 'How can rights be equal, if certain rights are based on race?',\n",
       " 'where are good places to hide things in your room ?',\n",
       " 'What’s your “go to” activity to pass time while you’re on a plane?',\n",
       " 'What is the worst Beatles song and why?',\n",
       " 'Lonely people, how do you do it?',\n",
       " 'What is a word that people mispronounce?',\n",
       " 'What’s the dumbest way you or a friend has been sent to a hospital?',\n",
       " \"American Psycho is now set in Canada, what's the plot?\",\n",
       " 'Ladies of reddit, how do you handle going pee when wearing crotchless panties?',\n",
       " 'What was something you were afraid off before you tried/ experienced it but now doesn’t faze you at all?',\n",
       " \"Therapy and drugs aren't working. What are some ways to deal with depression?\",\n",
       " 'What\\'s the \"trick\" to that thing you\\'re pretty good at that seems way more impressive than it actually is?',\n",
       " 'What a parent should never say to their child?',\n",
       " 'How did you find your classroom at your first day at school?',\n",
       " 'What do you like about 5G?',\n",
       " 'How were you bullied in school?',\n",
       " '[Serious] Doctors/ nurses of Reddit, what was the weirdest reason Simone came to the hospital?',\n",
       " 'If you were in charge of picking the artists for next years Super Bowl Halftime Show, who would you chose (give a main artist and 2-3 special guests)?',\n",
       " 'What’s the best lie you’ve gotten away with?',\n",
       " 'What could give men sexual performance anxiety?',\n",
       " 'Amish people of Reddit, how does not using technology affect your life?',\n",
       " 'What is your best Dad joke?',\n",
       " \"What's the most expensive item you've bought on Amazon?\",\n",
       " 'Workers of Reddit - what is the unoriginal wisecrack customers say to you over and over again?',\n",
       " 'Who was the most pathetic person you ever met?',\n",
       " 'what can you say that sounds sexually harassing but is not at all?',\n",
       " \"Who here is an adult who doesn't drive?\",\n",
       " 'What if Samuel Jackson called Arnold Schwarzenegger a motherfucker but then Arnie said \"fuck you, asshole\"?',\n",
       " 'What do you feel when you have killed someone in self defense?',\n",
       " 'How much money do you have in your bank account?',\n",
       " 'is it acceptable to use violence to stop someone who might be promoting ?',\n",
       " 'What was the Happiest moment of your life?',\n",
       " 'What is your earliest confirmed childhood memory and how old were you?',\n",
       " 'What is the first thing you look at when you see someone?',\n",
       " 'What’s your favorite/least favorite tattoo style?',\n",
       " 'Redditors from Russia or Ukraine: what’s going on?',\n",
       " 'Guys of Reddit, you are on a date with the most attractive woman you’ve ever seen in your life, what would she have to do for you to never want to see her again?',\n",
       " 'What do you love about life?',\n",
       " 'Who is your favorite celebrity?',\n",
       " 'What was the worst excuse from a pirate?',\n",
       " 'If you were to write a book, what would it be about?',\n",
       " 'What is the oddest food combo that shouldn’t taste well but is Devine?',\n",
       " '[serious] People of Reddit have you ever come close to death? How and why?',\n",
       " 'What are some little-known relationship GREEN flags?',\n",
       " 'People who go by their middle name instead of their first name, Why?',\n",
       " 'to all old people, what is the best memory you have from when you were young?',\n",
       " 'If you had to live in a painting, which would you choose and why?',\n",
       " 'Where do large companies keep their money?',\n",
       " \"What depressing way are you spending Valentine's day right now? Besides scrolling Reddit?\",\n",
       " \"how do y'all deal with someone that whenever they argue with you they never apologize, and go on to pretend it never happened?\",\n",
       " 'When was the last time you shit your pants?',\n",
       " 'What kind of childhood experience will make someone to really like BDSM as an adult?',\n",
       " 'What do you do to stave off premature ejaculation?',\n",
       " 'What is something you wish you knew before moving into your first apartment?',\n",
       " 'What common task do you perform differently than most people, and why?',\n",
       " 'Doctors out there. How many cigarettes can you smoke in a year and cause no real damage?',\n",
       " 'What is weirder then pooping standing up with clenched cheeks?',\n",
       " 'How often do you brush your teeth?',\n",
       " 'What are some misconceptions about love?',\n",
       " \"What feels illegal but isn't?\",\n",
       " 'What do you do so that you get a good nights sleep?',\n",
       " \"What are some words that are pronounced completely different from how they're spelled?\",\n",
       " \"What's a non progressive and non alright platform? Is there even one?\",\n",
       " 'What scars would you consider sexy?',\n",
       " 'What’s the best way to get rid of acne ?',\n",
       " \"What's the worst way you've been rejected after applying for a job?\",\n",
       " \"If there's a pot of gold at the end of a rainbow, what can you find at the beginning?\",\n",
       " 'Which is better, top load or front load washer? And why?',\n",
       " 'What’s a GOOD trait you have?',\n",
       " \"Redditors who eat PB and J's, which do you spread on bread first?\",\n",
       " 'Women of reddit, how often do men try to \"slide into your dms? What is your opinion on this wanted/unwanted attention from men?',\n",
       " 'Where all the bitches at?',\n",
       " '[Serious] Why do they keep making cars as airtight as possible, when people have gotten trapped and suffocated in their cars?',\n",
       " 'What do you all even do on valentines day?',\n",
       " 'Remember when liberals in 2016 were threatening to move to Canada if Trump won, so where will they threaten to move to this time if Trump wins in 2024?',\n",
       " 'What do you wanna be when you grow up?',\n",
       " 'What is something you have genuinely created?',\n",
       " \"What's the nickname you've given, or should give, to your car?\",\n",
       " 'Who’s the most universally hated person alive today?',\n",
       " \"What's the coolest, most unusual thing you have in your house right now?\",\n",
       " \"What's an IRL equivalence of incognito mode?\",\n",
       " \"Police officers of Reddit, what is the most corrupt thing you've seen or do done?\",\n",
       " 'For those who were homeless, what was the job that changed your circumstances?',\n",
       " 'How can people not believe in fate since everything is only atoms and energy ?',\n",
       " '(Serious) why aren’t people talking about inflation in America right now?',\n",
       " 'What if all of the oranges on earth turned into copies of the Annoying Orange?',\n",
       " 'What are your views on the Canadian Justice System?',\n",
       " 'What is a video game more people should be aware about?',\n",
       " 'What is a quote that more people should be aware about?',\n",
       " 'What is an addiction most people should be aware about?',\n",
       " \"Have you ever had a moment where you realized you've been doing something wrong Anything from simple stuff like wearing the wrong size of shoe to major stuff like something that could've been real trouble if it kept up?\",\n",
       " '[serious] people who have died and been brought back, what was it like?',\n",
       " 'What kind of dance choreography do you jerk off to?',\n",
       " 'Men, why do you never sit down when you pee?',\n",
       " 'Women of reddit, what are you thoughts on guys who write poetry?',\n",
       " 'What role would you play in your zombie apocalypse group?',\n",
       " 'What sub do you miss?',\n",
       " 'What would you think if the government installed cameras in your home so whenever people masturbate they pay 5 dollars?',\n",
       " 'How does it feel to chew 5 gum?',\n",
       " \"What video game did you play as a kid that you're embarrassed you spent so many hours on?\",\n",
       " 'Who do you think will be the next President of the United States (based on how we are now as a country)?',\n",
       " 'What’s something you’ve seen at a restaurant that made you immediately leave?',\n",
       " 'What’s something the kids have today that you wish you had in your childhood?',\n",
       " 'What is the best thing to do with an almost empty nutella jar?',\n",
       " 'Why were you out a few nights ago?',\n",
       " 'In your group of friends, what role do you play?',\n",
       " 'What parenting \"trend\" are u disagree with ?',\n",
       " 'what do you think of holding hands with your friends?',\n",
       " 'What are your guilty pleasures that you’re too embarrassed to admit?',\n",
       " \"What is the rich, handsome/beautiful, successful version of you in an alternate universe currently doing this very second and how does it differ from what you're doing?\",\n",
       " 'People who have completely switched careers what did you do and what do you do do now?',\n",
       " 'How and why do you live below your means?',\n",
       " 'If you could give yourself one quality/trait what would it be and why?',\n",
       " 'People who seen nice people finally snap, what happened?',\n",
       " 'Suppose there is a one world government. Where would the Capitol be?',\n",
       " 'Redditors of reddit, why is Korean written/spoken backwards?',\n",
       " 'Who is your favorite Demon Slayer character and why?',\n",
       " 'What do you think of capital punishment for watching pornography?',\n",
       " 'What are you afraid of and why?',\n",
       " 'If we live in a simulation, which language was it coded in?',\n",
       " 'Who is your favorite superhero?',\n",
       " 'If you are attracted to your step-cousin and they are mutually attracted to you, is it acceptable to marry them and what do you think the consequences might be?',\n",
       " 'How much sex do you have?',\n",
       " 'What did you see that you definitely were not supposed to see?',\n",
       " 'What are some things that feel outdated and need to be updated to 2022?',\n",
       " 'What’s the key to your heart?',\n",
       " 'What are some of the scariest things to have happened to you at night?',\n",
       " 'To the adults who still have a kid in them ,where was the best place you liked to hide during a game of hide and seek ?',\n",
       " 'What is one song you’ll never get tired of?',\n",
       " \"What's your age and what's something common that you believe 99.99% of people have done by that point in their life that you haven't?\",\n",
       " 'What caused your trust issues?',\n",
       " 'What event happened to you that 100% was real, but nobody believes you?',\n",
       " 'What’s your high risk but high reward story?',\n",
       " \"What's something you used to go nuts for, but now, no matter how hard you want it to bring joy...it just doesn't?\",\n",
       " 'You can remove something from humanities daily life, what do you remove?',\n",
       " 'How is it possible for some people to travel the world with no job and little money?',\n",
       " 'What is a funky smell that you really enjoy?',\n",
       " 'What show/movie is the most changed by giving a character Superman-level invulnerability?',\n",
       " 'Have you ever had a near death experience? What happened?',\n",
       " 'Who you want to be the next James Bond?',\n",
       " 'What if traffic lights turned red immediately when you\\'re about to hit the \"Stop here on red\" line?',\n",
       " 'What was the height of your horniness?',\n",
       " \"What are some of life's hidden joys?\",\n",
       " 'How do you let people who are brainwashed by their country, know that they are brainwashed?',\n",
       " 'Teachers of reddit, what are some positive trends you are noticing in the younger generation?',\n",
       " \"What's the most iconic videogame weapon?\",\n",
       " \"How do you eat like a lady in front of a bucket of fried chicken when you're on a Tinder date at KFC?\",\n",
       " 'For all the introverts and recluses out there, how are things going for you?',\n",
       " \"What is your most surreal dream that you've ever had?\",\n",
       " 'What made you instantly respect someone?',\n",
       " 'What is a strangely specific position or way you go to sleep?',\n",
       " 'What is something you loved or did as a teenager that makes you cringe to think of now?',\n",
       " 'Americans, what is keeping you awake at this time?',\n",
       " \"What's the dumbest thing you've heard about this fake war in the Ukraein?\",\n",
       " 'What is a subreddit of &gt;100k members that you really are hoping will grow or become more active?',\n",
       " \"What activity did you as a kid think you'd do loads or spend loads on when free to do so as an adult... and you were right?\",\n",
       " 'Do you hate Reddit? Why or Why not?',\n",
       " 'Been saving because wanted to buy a gaming laptop. But starting to get tried in it. How to stay motivated?',\n",
       " 'People of reddit that are in relationships: Do you get any direct pleasure from giving blowjobs? If not, then why do you partake in it?',\n",
       " 'What’s the most beautiful moment of humanity you have witnessed?',\n",
       " 'What is something completely pointless that you wish was a thing?',\n",
       " 'When did your “honeymoon phase” with your SO end, and when did you have your first argument? How many months/years into the relationship were you in?',\n",
       " 'What is something that you just cannot understand the popularity of?',\n",
       " 'What talent would you show off in a talent show?',\n",
       " 'When someone brings up unsolved mysteries, disappearances and/or kidnappings what is the first case you think of?',\n",
       " 'If you were falling off a cliff on a horse and right before the horse hit the ground you jumped on the horses back. Would you take damage like you fell from the cliff or only the 5 feet or whatever that you jumped up in the air from the horse?',\n",
       " 'Expect everything and nothing surprises you, but what happens if you question everything?',\n",
       " \"What's the point of your existence?\",\n",
       " '[Serious] What is your favorite ghost Hunter TV shows?',\n",
       " \"What's your favorite song?\",\n",
       " 'What can be better than sex?',\n",
       " \"What's the difference between being engaged and being in a serious relationship? If you already are talking about marriage and your future, what is the real difference asides from a fancy smanchy ring?\",\n",
       " 'What act did your crush do that made you immediately lose interest?',\n",
       " 'If you could instill one quality in every human on earth what would it be and why?',\n",
       " 'what song truly makes you cry?',\n",
       " 'How is your relationship with ex spouse ?',\n",
       " 'What deals 1HP in real life?',\n",
       " \"Redditors whose parents had failed/abusive marriage and they didn't divorce. How you do you guys cope up with those trauma? And how did it affect you as an adult?\",\n",
       " \"Is there any book that you never read, but already know what's the book about?\",\n",
       " 'What’s the worst autocorrect that happened to you?',\n",
       " \"What's the country you want to visit the most?\",\n",
       " 'Which non-Marvel character should be the next members of The Avengers?',\n",
       " 'What is your favorite music genre?',\n",
       " 'What is your favorite pose for nudes?',\n",
       " \"What's is the weirdest way you have made money from?\",\n",
       " 'What is there more of in the world, doors or wheels?',\n",
       " 'What is the least ethical but legal way to make money fast?',\n",
       " 'You win a contest where you can pick out any car, truck, etc. The catch is that you cannot own/rent/buy another vehicle for 30 years. What vehicle would you choose?',\n",
       " 'How are you preparing for a nuclear fallout?',\n",
       " \"What's something you buy and hope to never use?\",\n",
       " 'How is it to be in a mega church?',\n",
       " 'You were transported to your favorite video game. What game are you in and what are you doing?',\n",
       " 'If you want to get smarter, you can take classes, learn logical reasoning and critical thinking skills, and so on. But what should you do if you want to become wiser?',\n",
       " 'Whats the worst thing that’s happened to you today?',\n",
       " 'Hello everyone, what do u think about bangs?',\n",
       " \"What's with the hypocrisy with hating perverts in media, but loving perverted views on characters?\",\n",
       " 'What are two songs you frequently confuse?',\n",
       " 'What food does not live up to its hype?',\n",
       " 'What’s an unknown Pro Tip for more effective masturbation that everybody should learn?',\n",
       " \"What's the greatest love story in history, either real or fiction?\",\n",
       " \"What is something you would change about a country that you don't live in?\",\n",
       " 'If a woman is bullying you and you are a guy, how do you respond to the problem?',\n",
       " 'What do you need right now?',\n",
       " 'Gamers of reddit, what is something a video game does that pisses you off?',\n",
       " 'What do you think of the current COVID-19 protest situation in Canada right now?',\n",
       " 'Canadians, how is it going?',\n",
       " 'How was your valentines day?',\n",
       " 'Whats is the best way to Get followers on insta;)?',\n",
       " 'Nudes leaked, how has it affected your life?',\n",
       " 'What do you think will happen between Russia and Ukraine?',\n",
       " 'What song sums up COVID in your opinion?',\n",
       " 'African Americans of Reddit: What is your opinion on your right to purchase and own firearms?',\n",
       " 'What is your favourite type of pasta?',\n",
       " 'What do you think that you’re the only person in history to do?',\n",
       " 'Guys of Reddit, what do you think it means when a girl has just the words “large wang” in her online dating profile?',\n",
       " 'What do you want your tombstone to say?',\n",
       " 'Russian Redditors - What are your views on the actions at the Ukrainian border currently?',\n",
       " 'What is illegal, but not that bad?',\n",
       " 'If you had to run a food truck, what would you sell?',\n",
       " 'What is your best attribute and what would you find to be your biggest weakness?',\n",
       " 'If you were building a car, what would be an absolute must-have?',\n",
       " '[Serious] What are some good ways to get comment karma?',\n",
       " 'How does the pokéball know the difference between pokémon and humans?',\n",
       " \"What's the first thing you learned how to cook successfully?\",\n",
       " 'If you did not get a \"happy valentine\\'s day\" from someone you love, why do you think you did not get it, and how do you feel about it ?',\n",
       " 'What would be the worst rapper name ever?',\n",
       " 'What are you all doing for valentines?',\n",
       " 'What things do dumb people know more about than smart people?',\n",
       " 'Who’s a teacher you’ll never forget?',\n",
       " 'What’s the creepiest experience you’ve had while camping?',\n",
       " 'If you could write one definitive new rule for the Internet, what would it be?',\n",
       " 'When should someone get checked for cancer?',\n",
       " 'Guys, what is the most meaningful compliment you have ever received from someone you are/were interested in that they probably forgot about?',\n",
       " 'What scientist besides Einstein has the most catchy name?',\n",
       " 'What is something you thought only you did as a child that turned out to be a universal experience?',\n",
       " 'You can pick one restaurant to have right next to your house, but you can’t eat any where else, what restaurant do you pick?',\n",
       " 'Adults of Reddit. What was your first kiss like ? If you remember, details. Help a brother out ?',\n",
       " 'Have you been abused/neglected as a kid? If so, how are you healing from the experience?',\n",
       " 'Who in music did you think would be huge but completely fizzled?',\n",
       " 'What was your biggest date fail (you or them)?',\n",
       " 'what keeps you awake all night?',\n",
       " 'Which animals would dominate the Winter Games?',\n",
       " 'What would you prefer between an extremely extroverted friend (always wants to go out at night, very sociable) or an extremely introverted friend (never speaks in public, have social anxiety, etc...) ?',\n",
       " 'Do you think Ukraine can win, why or why not?',\n",
       " 'What are you hiding from your children?',\n",
       " 'Girls, how tall is too tall in a guy?',\n",
       " 'What would happen if suddenly every known form of Birth Control wouldnt exist anymore?',\n",
       " 'Long haired people of reddit, how does it feel like for your hair to fly in the wind?',\n",
       " 'What’s the worst county?',\n",
       " 'If you could have one more fighter be in Smash Ultimate, who would it be?',\n",
       " 'What’s your least favourite thing about your favourite person?',\n",
       " \"What's your favorite website outside of reddit?\",\n",
       " 'Wayne Gretzky said You miss 100 percent of the shots you never take what’s a real life example of this?',\n",
       " 'If you could change the swastika to something else but have it still carry the same weight, what would it be?',\n",
       " 'Which is the best Rocky movie and why?',\n",
       " \"What's your worst habit?\",\n",
       " 'Redditors who are currently in the night time, where are you and can you see the moon?',\n",
       " 'What is the fastest way to become a millionaire?',\n",
       " 'What is the best pizza topping?',\n",
       " 'What’s the most disturbing movie you’ve ever seen?',\n",
       " 'What are your thoughts on nickelback?',\n",
       " \"What would you like to do right now but can't?\",\n",
       " 'Your username has manifested into existence and it’s trying to kill you, what are you odds of winning?',\n",
       " \"What was your reason to buy flowers / chocolates / make Valentine's Day plans?\",\n",
       " \"What's a skill that most people seem to have, yet you do not?\",\n",
       " 'What skills/advice can only be learned the hard way?',\n",
       " 'What’s the weirdest place you’ve caught someone masturbating?',\n",
       " 'Why single sentence could you say to your parents that would ruin your life? (Serious)',\n",
       " 'How do you deal with your stress?',\n",
       " 'What is the best way to introduce yourself to a girl?',\n",
       " 'What’s the naughtiest thing you’ve done behind your partners back?',\n",
       " \"What was the longest 5mins you've ever experienced?\",\n",
       " 'How would you react after seeing explosion in Power Plant ?',\n",
       " 'When should someone get diagnosed for cancer ?',\n",
       " 'How would you use the phrase “destroyer of holes” in a sentence?',\n",
       " \"What was your way of spending valentine's day?\",\n",
       " 'What is scarier than death?',\n",
       " 'What are some good questions to ask a CEO?',\n",
       " \"Guys, what's your biggest turnoff from women?\",\n",
       " 'what is yalls rice purity test score?',\n",
       " 'What is your favorite number (no repeats)?',\n",
       " 'When you were a kid, did you eat the crusts on your sandwich or not?',\n",
       " '(Serious) What did you think of the Super Bowl halftime show?',\n",
       " 'What celeb would you most want to see do a nude scene?',\n",
       " 'If politicians were 100% honest, what would their campaign slogans be?',\n",
       " 'If you were five again with the same knowledge and intelligence: what would you do?',\n",
       " \"What is one thing you never did that other people are shocked by that you didn't do?\",\n",
       " \"What's the most interesting planet in our solar system in your opinion?\",\n",
       " 'You’re on a plane going down with no chance of survival. You have one text message you can make, what does it say and to who?',\n",
       " 'What is common for americans but not for others?',\n",
       " 'Singles of Reddit, how y’all feeling today?',\n",
       " 'People with really common names, how do you feel when you meet someone else with your name? Do you ever wish you had a less common name?',\n",
       " 'Serious. What is the weirdest sexual fantasy you ever had?',\n",
       " 'What does it mean if you like to be the little spoon?',\n",
       " 'What is the biggest political scandal?',\n",
       " 'What are some of the best legal side hustles?',\n",
       " 'What’s a useless fact about you?',\n",
       " 'If you had to sort out your own funeral, what would you plan and what song would you play?',\n",
       " 'What is one thing you should not tell a musician?',\n",
       " 'How do you plan to protect yourself from the upcoming AIDS epidemic?',\n",
       " 'What are the best dirty quotes you have in mind?',\n",
       " 'Have you ever gotten burned and how?',\n",
       " 'As a man should your Gf/wifes sexual history matter? When you ask to do things “anal” she did in the past but says no, should You be hurt?',\n",
       " 'What would happen if you hand got burned for 1 second?',\n",
       " 'What person deserves a hug right now?',\n",
       " 'How are you spending Valentine’s Day?',\n",
       " 'What do you cook for someone you’re trying to impress?',\n",
       " 'How lethal is a kick to the neck?',\n",
       " 'What is the most wtf thing that somebody has said to you ?',\n",
       " 'What did you think was normal until you moved out on your own?',\n",
       " 'What is the grooviest song that you know?',\n",
       " 'Is it normal for a grown person to have more pictures of their dog then their actual family why or why not?',\n",
       " 'Canadians of reddit, what is your opinion of the truck convoy protests?',\n",
       " '[Serious] Parents of Reddit, if you found out that your child was bullying another kid at school who committed suicide because of it, how would you react? Would you punish your child? If so, how?',\n",
       " 'What chromosome is responsible for autism spectrum disorder?',\n",
       " 'What would you do if a major war broke out between the West and Russia or China and there was a chance that you would be drafted ?',\n",
       " \"What do you think about the idea of an Enhanced Olympics where athletes may take whatever performance enhancing drugs they'd like to compete?\",\n",
       " 'With hardcore porn becoming so common, how has it affected the power of seduction in real life?',\n",
       " 'What’s the worst county?',\n",
       " 'People of Reddit do you have a song stuck in your head right now and if so what is it?',\n",
       " \"People who use keyboard systems other than QWERTY/AZERTY, why, and is it better for you? If it's better, how?\",\n",
       " 'Where can you get the closest thing to completely non-biased information on the Ukraine crisis?',\n",
       " 'What does it mean to “slam” someone as we see often in the news?',\n",
       " 'How weird is it for a 35 year old to date a 28 year old?',\n",
       " \"Who's that one person who can just get some appreciation?\",\n",
       " 'what celebrity was considered attractive in the 2000s but not now?',\n",
       " 'What’s something that as a kid you really wanted to become an adult for but now as an adult you don’t want to anymore?',\n",
       " 'How much money do you need to be considered rich in your country?',\n",
       " 'What is your favourite weird food combo ?',\n",
       " 'What would you do if you where Invisible?',\n",
       " 'What was your scariest home alone experience?',\n",
       " 'What do you miss the most about the 2000s?',\n",
       " 'When/Why where you in the most Physical Pain in your life?',\n",
       " \"What's your most controversial take on anime?\",\n",
       " \"What's the most reasonable, realistic, down-to-earth piece of advice to get rich you've ever heard?\",\n",
       " 'What is your reaction when someone calls you cute?',\n",
       " 'Men that are the average height of women, how has this impacted your life, why?',\n",
       " 'How did you find your purpose in life?',\n",
       " \"You're in medical school. Time to choose a speciality (ie. radiology, general surgery, ENT) Which do you choose and why?\",\n",
       " 'What is very complicated but should be way more easy?',\n",
       " 'What website/game has turned to crap because of all the updates?',\n",
       " 'What’s bothering you this morning?',\n",
       " 'What moment in your life do you consider the \"luckiest\"?',\n",
       " '[Serious] What makes you question your existence?',\n",
       " 'What weapon would you use if you were in a video game?',\n",
       " \"what are some food/drinks you use to LOVE, but don't anymore cause they taste different?\",\n",
       " 'Who was the inventor of the wheel, and why was it invented?',\n",
       " 'What is your special talent?',\n",
       " 'Are you for the current thing? Why or why not?',\n",
       " \"What's something you just can't remove from your sight?\",\n",
       " 'The amount of letters in your username is the amount of years you have left to live, how lucky are you?',\n",
       " 'What fictional character do you think you are most like?',\n",
       " 'What’s something most people think is true that actually isn’t?',\n",
       " 'If you could wipe one person from your memory, who would you choose and why?',\n",
       " 'What would you do if you won the lottery?',\n",
       " 'Who is your favorite Muppet and why?',\n",
       " 'What does light gray symbolize in a person?',\n",
       " 'What animal do you think would be the best pet if it stayed small and harmless?',\n",
       " 'What’s the most unexplained thing that ever happened to you?',\n",
       " 'What’s an overrated drug?',\n",
       " 'How would you describe time? [SERIOUS]',\n",
       " 'What is the most Dog Shit Film you have ever Watched?',\n",
       " 'what’s your favorite animal other than a house pet and why?',\n",
       " \"What's a subtle way to tell someone to not mess with you?\",\n",
       " '[Serious] In the event that one day Ukraine is liberated from the Russians what do you think will happen once the war ends? Do you think that Russia is forever finished on the world stage?',\n",
       " 'What is your MBTI personality type?',\n",
       " 'If a car is just the sum of its parts then is it really a car or just its parts, and why?',\n",
       " 'What’s a good job that pays well with minimum human contact ?',\n",
       " 'Marriages since middle school, how did yall do it?',\n",
       " 'Do certain songs fill you with existential dread, not because it is bad, but because it reminds you of your mortality? If so, what song is it?',\n",
       " 'So, are there more doors or wheels? Why?',\n",
       " 'What one learn able skill can help a person the most in life?',\n",
       " \"What do you like doing when you've anxiety / are worried about anything?\",\n",
       " 'Have you ever questioned your sanity, when?',\n",
       " 'What are you thoughts on shutting down of YouTube Vanced?',\n",
       " 'Favourite cheese, and why?',\n",
       " 'What is the book which has changed your thinking and life?',\n",
       " '[Serious] What advice would you give to a highschooler in public school?',\n",
       " 'Men are you generally happy with your penis ( in terms of how it looks, works, etc) ?',\n",
       " 'What are some girl secrets guys don’t know?',\n",
       " 'The CEO walks in on your watching porn with work computers, What could be your excuse?',\n",
       " 'What do you think of socially awkward people?',\n",
       " 'What is a thing that you could start with little money, and then make you more as it grows?',\n",
       " 'What are the weakest characters ever?',\n",
       " 'People who cut off all ties to their family, why?',\n",
       " 'Vegans of Reddit, do you swallow during oral sex and why or why not?',\n",
       " 'What does everyone think about all these companies leaving Russia? Is it more about them condemning the war or more about the Ruble being virtually worthless?',\n",
       " 'What makes you fear death?',\n",
       " 'What would be your reaction if your close friend said \"Let\\'s marry each other if we still doesn\\'t have anyone in 30s\"?',\n",
       " 'What if invading soldiers make you have sexx with someone youlike and they do not know youand uploaded it to a free website ? Then what ?',\n",
       " 'why do you reckon that people who “play guitar and smoke a lot of pot” (it’s a lyric from The Kids Aren’t Alright) are wasteful to society and looked down upon? When people who also don’t live for others like Chris McCandless are somewhat praised?',\n",
       " 'who are the most liked Villains of all time?',\n",
       " 'Learner drivers of Reddit, what are you most scared of while driving?',\n",
       " '[Serious] How do you define rest?',\n",
       " 'Men of Reddit, the ones who own a dick 7 inch+ how does it feel?',\n",
       " 'People who recently escaped from prison, where are you now?',\n",
       " 'What gives you the ick?',\n",
       " 'You have just finished Jerking off to Indian Porn, your dad walks in seeing the screen, What can you say to redeem yourself?',\n",
       " 'What are some unusual guy secrets girls don’t know about?',\n",
       " 'How would you describe loneliness? [SERIOUS]',\n",
       " 'What do you think the first Rule 34 drawing would have been?',\n",
       " 'How’s that long distance relationship coming along now that petrol has gone up?',\n",
       " 'what is the best skill you have but probably will never use?',\n",
       " 'What is the worst subplot in an overal great movie?',\n",
       " 'What is your biggest regret?',\n",
       " 'What is the scariest thing that’s ever happened to you?',\n",
       " 'How do you deal with being on the wrong side of 30, knowing it will only get harder?',\n",
       " 'Why do you think fapping affects the brain?',\n",
       " 'How did we get to the point at which we cant go a whole day without saying fuck?',\n",
       " 'what does lettuce taste like?',\n",
       " 'What happend in your childhood that you have never understood?',\n",
       " 'What is your earliest memory of using the internet ?',\n",
       " 'If you can travel back in time, what year would it be and what would you have done differently?',\n",
       " 'Which is your really favorite pokemon and why?',\n",
       " 'Dating Apps: thoughts? yay or nay? Are they even worth the time? Also, which ones are used more often?',\n",
       " 'What movie character made you play its role but in real life?',\n",
       " 'Nudist of reddit; how do you keep warm when it’s winter without putting clothes on?',\n",
       " \"What is the funniest joke you've ever heard?\",\n",
       " 'Last time you were seen naked by who and how? What’s ur funny or embarrassing story?',\n",
       " \"Is there a reason why we don't have access to reusable pregnancy tests?\",\n",
       " 'How do you make water holy ? You boil the hell out of it. Can anyone explain this joke ?',\n",
       " 'How long do you and your partner usually spend having sex?',\n",
       " 'What are the benefits of being nude or sleeping naked?',\n",
       " 'what does post nut clarity really mean ?',\n",
       " 'What would you write about if you knew you were going to die soon?',\n",
       " 'what video game or character still scares you to this day?',\n",
       " 'how do you get over fake friends?',\n",
       " 'How often did you fight with your parents as a kid?',\n",
       " 'People that almost died, why?',\n",
       " 'If there were a solid youtube alternative, What feature could make you switch platforms?',\n",
       " \"How do you imagine an Egyptian born and raised, Georgia, USA higher-educated, professionally works in London's accent would sound like, why?\",\n",
       " 'What innocent and non-scary childrens story freaked you the fuck out when you were little?',\n",
       " \"Russians of Reddit, why wouldn't you let your neighbouring countries become as western, decadent and nazi as they please ir they stay on their side of the borders anyway?\",\n",
       " 'Which celebrity would you like to fuck right now?',\n",
       " 'What did you do when your parent died?',\n",
       " \"What's that one embarrassing memory that haunts you at 3am when you're trying to go to sleep?\",\n",
       " \"If you don't want; Why don't you want to have kids?\",\n",
       " 'Hiring manager of reddit: what are tell tale signs that a candidate for job is a toxic person?',\n",
       " 'Healthcare staff: How often do doctors and nurses actually hook up in the hospital/office?',\n",
       " 'Not including gta and red dead, which rockstar game would you like to see come out soon?',\n",
       " 'What item is the most prone to becoming illegal one day?',\n",
       " 'Over the last few years on Reddit, what are some of the stupidest things you’ve seen happen?',\n",
       " 'How do you deal with constant stress and worry?',\n",
       " 'The next job you apply for will 100% accept you, what job will you go for?',\n",
       " \"What's the most cursed power you can think about?\",\n",
       " '[Serious] What place is first on your travel bucket list right now?',\n",
       " 'Those of you who remain silent in public bathrooms when someone knocks on the door, why do you not just say something?',\n",
       " '[serious] What do you think will happen to American society if Roe is overturned?',\n",
       " \"Which politicians you might think of when you hear the word 'national embarrassment'?\",\n",
       " 'How old are you?',\n",
       " 'What song have you been singing wrong?',\n",
       " 'What is the golden question?',\n",
       " 'What are your most bizarre dreams that you can never forget from your sleep?',\n",
       " 'What was one of the best \"uno reverse card\" moment you witnessed?',\n",
       " \"Has McDonald's always been the same old cardboard rubbish that we love to waste our money on, what's your thoughts. ?\",\n",
       " 'What’s something you’ve never felt comfortable with?',\n",
       " 'What are your thoughts about the current body positivity movement?',\n",
       " 'What is you’re „wtf happened here“ moment?',\n",
       " 'What’s the childhood gift you never got and still want?',\n",
       " 'What is your worst fear?',\n",
       " 'Why are you still afraid of covid variants, and getting booster shots, when logically every mutation causes the variants to get weaker?',\n",
       " 'Are you skipping Christmas this year, and for what reasons? Financial? Covid? Political dispute?',\n",
       " \"What's your favorite tv theme song?\",\n",
       " 'What is the funniest word you know?',\n",
       " 'If you had one day left to live, what would you do?',\n",
       " 'How did you find out that Santa and Jesus were stories your parents told you to get you to behave?',\n",
       " 'Redditors with terrible teeth, what advice do you have the rest of us?',\n",
       " 'What would you do if your cat suddenly talks?',\n",
       " 'If given the resources what is the first problem you would fix to make the world a better place for everyone?',\n",
       " \"You've got one chance to visit any movie set in history, which movie set and why. ?\",\n",
       " 'What food item is perpetually out of stock at your local grocery store?',\n",
       " 'We are about to end 2021. What did you wished you had done more in 2021 and what will you better off in 2022?',\n",
       " 'What’s a good book-to-movie adaptation?',\n",
       " \"Men's of Reddit, how do you treat the area around your balls?\",\n",
       " \"Which band or artist do you think you've listened to the most in your life?\",\n",
       " 'How did you find out that Santa wasn’t real?',\n",
       " 'What causes the distinctive smell in European public toilets (compared to US toilets)?',\n",
       " 'What is the smell that reminds you of great memories?',\n",
       " \"What's the one thing you want to change in your partner/SO?\",\n",
       " 'What is something u wish you found out sooner?',\n",
       " \"Redditors with ADHD, what's your current dopamine fix?\",\n",
       " 'People who have been in a car accident: what song was playing and do you still listen to the song in the car?',\n",
       " 'What’s something that people just aren’t ready to hear?',\n",
       " 'What game did you play for the longest time in your Steam library and how many hours did you play it?',\n",
       " \"Fellow redditors, What's a wholesome fact that makes you feel good?\",\n",
       " 'If you find Ben Affleck attractive, why?',\n",
       " 'What you willing to give up for this Wet Ass Pussy?',\n",
       " 'What’s your New Years resolution?',\n",
       " 'What is the most upsetting/disturbing fact you can think of?',\n",
       " 'What do you need to vent out?',\n",
       " 'Your brought in as an extra on the Star wars set, what are you stealing and why. ?',\n",
       " 'Hey Redditors, When did u go on ur first date and How did it happen?',\n",
       " 'When and why were you last grounded by your parents?',\n",
       " 'What would you do if you have doraemon for a day?',\n",
       " \"What's something you should never feel ashamed about?\",\n",
       " 'Who truly loves you ?',\n",
       " 'Do you believe in aliens? Why or why not?',\n",
       " 'have you ever met someone with armpit or feet fetish, if so how did you react?',\n",
       " 'Who do people think they are fooling with bottom angle selfies ?',\n",
       " 'What is your favorite RHCP song and album and why?',\n",
       " 'Ask reddit: what is the worst food you have ever tasted?',\n",
       " 'What’s your all time favorite video game to play?',\n",
       " 'Men of Reddit, what do you think about the other boys/men you work with in general?',\n",
       " 'What are the essentials that you need when moving into your first place?',\n",
       " 'What is your worst interaction with TSA agents?',\n",
       " 'What is a core memory that made you into the person you are today?',\n",
       " 'What was the most fucked up thing have you ever seen in your life?',\n",
       " 'Buzzkills of Reddit, what is the one fun fact that you are obligated to correct (and put everyone in a slightly worse mood)?',\n",
       " 'Americans, what are some prejudices you have about Europeans?',\n",
       " \"What is a potential future technology that you're worried about if it becomes real?\",\n",
       " 'Have you ever been in the shower for a long time for no reason at all?',\n",
       " 'Why do you agree with the thought that The Beatles are overrated?',\n",
       " 'What is the most unsettling thing you have witnessed?',\n",
       " 'If you get PTO, how much do you get per year? Are you happy with it?',\n",
       " 'What’s something you have always wanted to do but probably never will?',\n",
       " \"BDSM lovers, what's the one rule in BDSM everyone must follow without exceptions?\",\n",
       " 'What would you do if you found a dead body in a hotel room?',\n",
       " 'What is your favorite song/album that you listen to when you work out?',\n",
       " 'What is the one thing that would give you happiness right now?',\n",
       " 'If a zombie apocalypse happened, how do you think you would do?',\n",
       " '[Serious] What year &amp; age did you use a computer for the very first time (you can remember)?',\n",
       " 'What a part of daily life for Jar-Jar Binks?',\n",
       " 'What franchise peaked too quickly?',\n",
       " 'What did you do that turned a date into a “bad date”?',\n",
       " 'When you run into someone you know but cannot remember the person’s name, how do you tactfully get them to reveal it?',\n",
       " \"What is something that you always wanted as a kid, but couldn't get until you were an adult? What do you think of it now that you have it?\",\n",
       " 'What was the most upset you’ve seen someone?',\n",
       " 'Your supervisor (a sweet woman) gets yelled at by your manger due to unforeseeable delays in the project. What will you do?',\n",
       " \"What's so bad about going to washrooms located in petrol stations?\",\n",
       " 'When winter comes, do you salt your driveway like tortilla chips, and if not what do you do with it?',\n",
       " 'What is popular on reddit but unpopular outside of reddit or vice-versa?',\n",
       " 'What do you to motivate yourself when you don’t want to workout?',\n",
       " 'If purge was real what would your typical purge day look like?',\n",
       " 'What do the winter holidays mean to you?',\n",
       " 'What if you had the power to make anyone do anything sexual?',\n",
       " 'What item do you buy that make you feel like an adult?',\n",
       " 'What can make a depressed person happy on their birthday that is tomorrow?',\n",
       " 'What are some of the best \"experience\" gifts to give someone?',\n",
       " 'what is something that should be normalized?',\n",
       " 'What is something you wish you could automate?',\n",
       " 'What would be the worst part about being invisible?',\n",
       " 'What is the most disgusting thing that you’ve ever eaten?',\n",
       " 'If social security is the sole income, can that be tagged to pay alimony in the ending of a 25+ year marriage? Why?',\n",
       " 'What is your favorite little-known fact?',\n",
       " \"What's the most embarrassing things you've seen?\",\n",
       " 'What do you think about the rioting and looting that went on during 2020?',\n",
       " 'What was the most disturbing thing someone said to you?',\n",
       " \"What's the best piece of graffiti you ever saw?\",\n",
       " '[Serious] What are the best resources available for helping an adult male child abuse victim recover?',\n",
       " 'Do you think virginity is underrated nowadays? Why or why not?',\n",
       " \"Fellow women of Reddit, what's the worst thing about being a woman?\",\n",
       " 'Harry Styles just finished his world tour. What should be his next acting role?',\n",
       " 'Women (and men) What do you think of a guy with a dripping wet bussy?',\n",
       " 'If you could go back in time &amp; change one thing that’s happened, what would you change?',\n",
       " 'If cats and dogs could vote, what political party would they belong to? ... and why?',\n",
       " 'What should a sad 33 year old do with their life?',\n",
       " 'What’s the craziest reason you’ve heard for a wedding being called off?',\n",
       " 'Name 3 items that would look super suspicious only if bought together. What’s the worst thing you can come up with?',\n",
       " 'How do you proof that you are not a bio trash every day?',\n",
       " 'So here we are, atop a floating rock in the middle of nobody knows where. Now what?',\n",
       " 'What is it that people who Meditate and people who take Psychedelics are trying to achieve?',\n",
       " \"What's a really niche thing you reference consistently but nobody gets?\",\n",
       " 'What is the dumbest/weirdest conspiracy theory you actually believe in?',\n",
       " 'People who have contacted a poison control center, what is your story?',\n",
       " 'What is the worst way someone took your rejection?',\n",
       " 'What is one thing you saw today, you wish that you had saw yesterday?',\n",
       " 'Why do you think everyone in the theater laughed when the two men kissed in Eternal’s?',\n",
       " 'If you could read or write your own autopsy, what would you want the doctor to comment on most?',\n",
       " 'What do you miss most about pre-covid life?',\n",
       " 'What was your greatest “Aha!” moment where you figured something out?',\n",
       " 'What did an ex ruin for you?',\n",
       " 'What is the most f*ucked up thing you’ve ever thought of?',\n",
       " 'What is the worst physical pain you have ever felt?',\n",
       " 'What is meditation and how can it be used for personal improvement?',\n",
       " 'What is the best platform for streaming movies and series? What is your favorite movie or series on that platform?',\n",
       " 'What do you think the most likely cause of your death will be?',\n",
       " 'Redditors age 35+, what’s the best piece of life advice you can give to someone in their 20’s?',\n",
       " 'What the hell is wrong with you?',\n",
       " 'What was the last thing that cheered you up?',\n",
       " 'What video game do you always end up coming back to?',\n",
       " \"What's the worst thing you've seen on omegle?\",\n",
       " 'What are some examples of great marketing?',\n",
       " '[Serious] For better or worse,what completely changed your life?',\n",
       " 'What are the Best action movies similar to John wick, Kingsman ??',\n",
       " \"What are your thoughts on people who snoop on their s/o's phones?\",\n",
       " 'What’s the dumbest thing you’ve ever heard someone say?',\n",
       " 'What does it mean to have a strong personality?',\n",
       " 'How much is gas for you and where do you live?',\n",
       " 'What is a company secret you can share because you don’t work there any more?',\n",
       " 'What is the most unethical but illegal way to make money fast?',\n",
       " \"What do you do when you realize you've been getting very emotional lately?\",\n",
       " 'What is the cost of gas where you are?',\n",
       " 'What’s a family drama will carry to your grave?',\n",
       " 'What do you think of Marilyn Manson?',\n",
       " \"What's the biggest bullet you failed to dodge?\",\n",
       " 'If you could pick one trait/quality about yourself to pass down to your kid what would it be?',\n",
       " \"Food service and gas station attendants of Reddit, what is the craziest/grossest/most absurd thing you've seen in the public bathroom?\",\n",
       " 'Redditors with motion sickness, what do you do to make your travel time pleasant?',\n",
       " '[Serious] Why did you decide to give a second chance to someone who definitely didn’t deserve it?',\n",
       " 'What did you hate eating as a kid, that you love now?',\n",
       " 'What is a piece of music (song or whatever) that really hits you hard when you listen to it?',\n",
       " 'What is the difference between xenophobia and racism?',\n",
       " \"What's the point of learning History and Math in schools when we have all information we could ever need, just one tap away on our phones?\",\n",
       " 'Why did they cancel the show “Nathan For You” ?',\n",
       " 'What is your favorite candy?',\n",
       " 'What indian movies would you recommend?',\n",
       " \"What is the worst thing that you've seen in people?\",\n",
       " 'What is the appeal of buttsex?',\n",
       " '[Serious] What’s something seemingly harmless that can actually be very harmful?',\n",
       " \"What makes you not want to be someone's friend?\",\n",
       " \"Y'all Ever See a Mod (here or any other forum) Behave like they owned the place? If so, how?\",\n",
       " 'What are some fun things to do on Reddit?',\n",
       " 'what is less sexy than diarrhea?',\n",
       " 'What is your pet peeve?',\n",
       " 'People with 0 friends, how did you end up this way?',\n",
       " 'How would you like a compliment?',\n",
       " 'What is your favorite food to eat when you’re stoned?',\n",
       " 'Why do your eyeballs turn black while you sleep?',\n",
       " '[Serious] What made you decide to move out of your parent’s house?',\n",
       " 'All humans mysteriously disappear. Cars, Houses, Boats, Fuel, Etc. remain. You can now live anywhere in the world. Where would you go?',\n",
       " 'What are you going to tell future generations when they ask what life was like before the pandemic?',\n",
       " 'What do you think about when you see that one really cute coworker?',\n",
       " 'What’s the second worst country in the world right now?',\n",
       " '[Serious] what are your thoughts on the movie Cuties?',\n",
       " \"What's a sentence/quote that just sticks in your head no matter how hard you try and forget it?\",\n",
       " 'Some places have national dishes, if the Earth had a global dish, what would it be?',\n",
       " 'Who is the most badass male character in a movie/game?',\n",
       " 'Non-choosy eaters, what’s one food you absolutely can’t get before?',\n",
       " 'Why are you not watching Rocky 4 tonight?',\n",
       " 'How often does a average person from America cook in day?',\n",
       " 'Dear spouses in Lavender marriages, how did it happen? Are you two friends?',\n",
       " 'How has life been unfair to you?',\n",
       " 'If you could bring back one Non-Family Member back to life, who would it be and why?',\n",
       " \"[Serious] For all the books you read in the past 3 year , what's your favorite one?\",\n",
       " 'Would you call someone pretty/handsome if you didn’t have feelings for them? Why or why not?',\n",
       " \"This one is for the ladies. What are some mannerisms you catch yourself doing that can be taken as obvious signs you're into somone?\",\n",
       " \"What's a clear sign you're growing up?\",\n",
       " 'What is the funniest or most entertaining fake review (for a product) you have ever read?',\n",
       " 'reddit smokers,why do you smoke?',\n",
       " 'What\\'s the most dangerous situation you have been in/witnessed \" that got defused\" or not?',\n",
       " 'What have you been doing last week?',\n",
       " 'Who is the most badass female character in a movie/game?',\n",
       " 'What were your lingering side effects of Covid?',\n",
       " 'What are some subreddits that impacted your life in a positive way?',\n",
       " 'For those who wfh, what are some of the things you do to ‘cleanse the evil from the space’ to reset for the weekend?',\n",
       " 'What doesn’t belong in the fridge ?',\n",
       " \"What's something that is completly normal but when you get seen doing it's wierd or illegal?\",\n",
       " 'what is the most creepiest things that a kid had ever told you?',\n",
       " 'What’s the most embarrassing reason you got money for ?',\n",
       " 'What’s the best jokes?',\n",
       " 'What is the bravest thing you have ever done?',\n",
       " 'What is a law that you think is too unfair?',\n",
       " 'What do you think when you find a person attractive?',\n",
       " 'What was the worst thing to ever happen to you in your teen years because of a partner?',\n",
       " 'What’s the most bizarre way to flirt with someone ?',\n",
       " 'You just got transported to your favorite tv show. What show are you in?',\n",
       " 'Ladies, what are you doing if your boyfriend breaks down right in front of you?',\n",
       " 'It’s 1:30 am. just saw a roach, can’t sleep, what are the most EXTREME ways to get rid of these disgusting creatures and definitely never see these again.?',\n",
       " 'If the permanent record was real, what would your ‘worst’ school crime be?',\n",
       " 'What are your favorite Greek foods?',\n",
       " 'What do you think the world would look like if specifically high school was optional?',\n",
       " \"What's your price to pimp yourself out?\",\n",
       " 'What is something you are trying to learn and why?',\n",
       " 'If it ever turns out we are in a simulation, what would make it sort of obvious in hindsight?',\n",
       " 'How short do you think 5’4” is for a guy, like how noticeable/severe would you consider their lack of height?',\n",
       " \"What is a subtle but important realization you've had as you've matured?\",\n",
       " 'took this online quiz and it said \"early stages of schizophrenia\". little scared don\\'t want that to be true as not hallucinating or anything... What are the signs of real schizophrenia?',\n",
       " 'Redditors that either firmly believe in a higher power, or firmly believe there is none, what makes you so sure?',\n",
       " 'Women of reddit: what is something you always wanted to know about men but afraid to ask openly?',\n",
       " 'How come when you’re 19-21 you’re “too young”, but at 28-30 you’re suppose to be an “old functional adult”?',\n",
       " 'What does your birthmark look like?',\n",
       " 'What screams that the TV show writers have ran out of ideas ?',\n",
       " 'Redditors, what is the thing that triggers you the most?',\n",
       " 'How drunk are you this weekend?',\n",
       " 'What do you like to collect?',\n",
       " 'How are guys doing today?',\n",
       " 'What did you think of The Batman?',\n",
       " 'What social standard of the future will you be on the wrong side of?',\n",
       " 'Dog owners of reddit: what are some of the biggest mistakes people make while choosing a breed ?',\n",
       " \"What's a common life lesson that doesn't apply to the modern world?\",\n",
       " 'How do you explain racism?',\n",
       " 'When did parents start giving valentine presents to their kids? Isn\\'t it a day for \"lovers\"?',\n",
       " 'What is the most life changing $200 (or equivalent) that you’ve ever spent?',\n",
       " 'How long do you keep pizza in the fridge before you question if it’s still good?',\n",
       " 'What is the side effect of love?',\n",
       " 'How did your daddy hurt you?',\n",
       " \"What are marketing strategies that common people usually don't notice/realize?\",\n",
       " 'What will you do if your girl post her nudes online, will you still marry her?',\n",
       " 'What’s your favorite part of the Waterboy?',\n",
       " 'Whats the best gift you have ever received?',\n",
       " 'What’s the best response/comeback to “suck your mum”?',\n",
       " 'Stoners of reddit, if you still live at home, how do you keep it hidden?',\n",
       " 'What is the one video game that should become a movie?',\n",
       " \"What would you be doing right now if you weren't on Reddit?\",\n",
       " 'Non Americans, what do you think about America?',\n",
       " \"What are some rules, whether written or unwritten, that don't make sense at all?\",\n",
       " 'Which movie would you love to re-write the end?',\n",
       " 'what adult decision did you make today?',\n",
       " 'What is the coolest word you learned recently?',\n",
       " 'What absolutely tiny thing infuriates you no matter what?',\n",
       " 'All humans lose their ability to throw things, how does the world change?',\n",
       " 'What is more beneficial, eating an unhealthy meal or skipping the meal altogether?',\n",
       " 'How do you get a whole new identity with limited funds?',\n",
       " 'What made you create a reddit account?',\n",
       " 'What is your favorite pizza topping?',\n",
       " 'Who do you think, if made the President of your country, will do a tremendous job for the people?',\n",
       " 'For once, If you could tap into the minds of everyone on Earth and say something, what would it be ?',\n",
       " 'You- whats the most annoyingly right advice you were given by a stranger?',\n",
       " 'What is the most replayable game for you, story wise?',\n",
       " 'What’s an event you’ve lived through that’s literally in the history books?',\n",
       " 'Which celebrity’s name doesn’t match his/her personality?',\n",
       " 'Aliens have put you in a human zoo. What do they say about you?',\n",
       " 'What one rule would you enforce upon all people if you could?',\n",
       " 'If you had to leave a petty will for your family that abused you, stole from you and talked shit behind you, what would you write, who would you give the money?',\n",
       " 'who is the world best celebrities?',\n",
       " 'Redditors, what’s a money glitch you found in real life?',\n",
       " 'What video game r u most addicted to?',\n",
       " 'What would it take to make all depressed people enjoy their life?',\n",
       " 'What’s the tastiest meal you have ever eaten?',\n",
       " 'What do you truly believe in?',\n",
       " \"What's on your home screen becomes your enemy, will you win?\",\n",
       " 'Do people still order from Wish? If not, what’s the new cheap shopping app?',\n",
       " 'What truly makes you satisfy and enjoy life?',\n",
       " 'What’s the most creative way to tell someone you love them ?',\n",
       " 'What do you just put up with?',\n",
       " 'You’ve got to blow a first date as fast as possible, what do you do?',\n",
       " 'Enough with the sad/depressing questions over and over again. What, in general, makes you happy?',\n",
       " 'Which purely recreational activity makes you irrationally ANGRY?',\n",
       " 'What did you say because \"it needed to be said\"? And did it really?',\n",
       " 'Which is the most complicated system or thing to understand?',\n",
       " 'What do you think happens when you die?',\n",
       " \"Europeans of Reddit. How free will you feel if Facebook shuts down in Europe like it's rumored to be considering?\",\n",
       " 'What are your opinions on waffles and ketchup?',\n",
       " \"What's your favorite unwritten rule?\",\n",
       " 'What does the life of a young attractive guy look like? Do people treat you like a god?',\n",
       " 'Young people of reddit (less than 32), if 3rd world War happens , what will you do?',\n",
       " 'what is your favorite sexual trick?',\n",
       " 'why has your life become so gloomy and boring?',\n",
       " 'If you could create your own currency that is exclusive for your own reasons, what would it be called and used for?',\n",
       " 'What\\'s the meaning of this quote: \"True humility is not self deprecation its faith in the generosity of God\"?',\n",
       " \"If politicians want to divide us and make us argue amongst ourselves; why don't we just chill?\",\n",
       " 'What is your main catchphrase?',\n",
       " 'What’s something that people usually lie about?',\n",
       " 'What rock musicians are/were assholes, and why?',\n",
       " 'What’s the worst tasting drink?',\n",
       " 'Mother’s don’t give spoons to kid for reason or not but grow up after 12 or so times and have to do it themselves?how come that is the case usually?',\n",
       " 'Parents of Reddit, why would you guys yell at us (kids) when we would turn the little light on in the car?',\n",
       " 'If you were a master, what would you be the master of and what would you want to teach your students?',\n",
       " 'What is the most controversial sport opinion you have?',\n",
       " \"what's the worst thing someone has done on a first date?\",\n",
       " 'What’s the worst experience you’ve had with a toilet?',\n",
       " \"The Porn Industry has officially moved over, no more step- or incest, they've found another taboo genre easy to produce that offers good plot opportunities. What is it?\",\n",
       " 'What’s an example of something that’s totally unnecessary?',\n",
       " 'Redditor’s of London, what is your least favourite thing about London?',\n",
       " \"Does the Universe have an end point and if so what's past that?\",\n",
       " 'What do u do in leisure time ?',\n",
       " 'Humanity is the real virus of this planet. What do you think about this statement?',\n",
       " \"Revengeful people, why don't you forgive those who harmed you in any way?\",\n",
       " 'What’s your favorite drink when you’re dying of thirst?',\n",
       " 'What kind of self-employment can you start right away?',\n",
       " 'What was your first experience with marijuana like? How did it shape your ongoing views?',\n",
       " 'What is the chance of ww3 happening? Like can this actually happen?',\n",
       " 'Does woman pee dissolve it why why not?',\n",
       " 'Which Foods Taste Better Reheated?',\n",
       " 'What’s the best documentary you’ve seen?',\n",
       " 'Where would you rather live, Atlanta,GA or Cleveland,OH and why?',\n",
       " 'What\\'s the best response to \"eat my pussy\" ?',\n",
       " 'What do you hope for?',\n",
       " 'People who thought high price stupid arts were for money laundering, what do you think about NFTs? [Serious]',\n",
       " 'What is something you wish you wish you had never seen / known about?',\n",
       " 'Has anyone ever just woken up naked with no clue as to how you ended up that way?',\n",
       " 'What anime is as good and is like AOT?',\n",
       " 'What is the most unrealistic thing movies and TV shows have young people do?',\n",
       " 'What do you do if your brother got you pregnant?',\n",
       " 'People who cross the road without looking, why?',\n",
       " 'What’s the most annoying commercial to you?',\n",
       " 'How do you save money with an aggressive spending addiction?',\n",
       " 'You have to fight the last person you watched on Youtube in hand-to-hand combat. How screwed are you?',\n",
       " 'What’s the weirdest fetish you’ve heard of?',\n",
       " 'What do guys \"never\" tell girls?',\n",
       " \"What things aren't gonna be cool in future?\",\n",
       " 'The Museum of Social Media is being created. What is going in it (think funniest/best tweets, videos, etc)?',\n",
       " 'What can you do about lazy coworkers?',\n",
       " 'What are disturbing historical facts we often gloss over?',\n",
       " 'People of Reddit, do you get annoyed when a waiter gives you the bill when you’re not even done eating?',\n",
       " '[Serious] What are disturbing things we often forget about “cute” animals?',\n",
       " '[Serious] What’s a disturbing fact about life we often ignore?',\n",
       " 'What are some challenges you think the next generation will face?',\n",
       " 'Bookworms of Reddit, what got you into reading?',\n",
       " 'What the fuck is going on in Ukraine?',\n",
       " 'People who travel often, how does the air quality/smell differ in the places you’ve been?',\n",
       " 'What do you think the US going to war would mean to the world?',\n",
       " 'What are the chances the US will go to war with Russia over the Ukraine conflict?',\n",
       " 'What are some songs that would be difficult to strip to?',\n",
       " 'Do you think we’re about to have WWIII? Why or why not?(be serious)',\n",
       " \"What's your go-to search engine?\",\n",
       " 'AskReddit, what is love?',\n",
       " 'Hey Reddit, what is a weird tradition in your family that is supposedly cultural, yet when you talk to other people of the same culture, they have never heard of it?',\n",
       " 'Americans of reddit, how would you want the USA to respond to the current invasion happening on the other side of the globe?',\n",
       " 'What does/would it take for you to befriend someone that you met on the Internet?',\n",
       " 'Dear reddit, the first time you.. uh... \"did the deed\", where did you get the condom?',\n",
       " 'Users of Reddit, what was your most embarrassing moment during sex?',\n",
       " 'As the situation escalates between Russia and Ukraine, what is the safest place on earth right now?',\n",
       " 'Redditors who have known someone convicted of an awful crime. What were they like? Did you get any weird vibes from the person before you found out?',\n",
       " 'When did you realize you were a geek?',\n",
       " 'What do you think of the phrase \"You will own nothing and you will be happy\"?',\n",
       " 'What’s something that made you smile today?',\n",
       " 'People of Ukraine, what do you hope the world will do in response to the Russian attack on your country?',\n",
       " 'What are your thoughts on Russia now attacking Ukraine?',\n",
       " 'In your personal opinion, which country is good to be born in?',\n",
       " \"What's your astrological sign?\",\n",
       " 'What’s your favorite subreddit on…uhh…Reddit?',\n",
       " 'Dear people of Reddit, when is it the right time to end a friendship/leave a friendgroup?',\n",
       " 'What’s the best way to address a black eye for a presentation?',\n",
       " 'Is Bullying as severe and common in west(europe/america) as shown in movies and tv series?',\n",
       " 'A clone of whoever you searched last appears right next to you. What is the first thing you do with them?',\n",
       " 'Why not president join battlefield whenever a war happens?',\n",
       " 'Users of Reddit, why are you so awesome?',\n",
       " 'What is the most embarrassing thing you have been caught doing?',\n",
       " 'Who inspires you? Why?',\n",
       " ...]"
      ]
     },
     "execution_count": 37,
     "metadata": {},
     "output_type": "execute_result"
    }
   ],
   "source": [
    "b"
   ]
  },
  {
   "cell_type": "code",
   "execution_count": 213,
   "metadata": {
    "ExecuteTime": {
     "end_time": "2020-09-30T02:16:49.792004Z",
     "start_time": "2020-09-30T02:16:49.775613Z"
    }
   },
   "outputs": [],
   "source": [
    "for i in range(len(tiny_dataset)):\n",
    "    example = tiny_dataset[i]\n",
    "    text_example = example['question']\n",
    "    text_example = text_example.replace('\\n','')\n",
    "    text_words = text_example.split()\n",
    "    ques_len.append(len(text_words))\n",
    "    summary_example = example['answer']['value']\n",
    "    summary_example = summary_example.replace('\\n','')\n",
    "    summary_words = summary_example.split()\n",
    "    ans_len.append(len(summary_words))"
   ]
  },
  {
   "cell_type": "code",
   "execution_count": 214,
   "metadata": {
    "ExecuteTime": {
     "end_time": "2020-09-30T02:16:49.918958Z",
     "start_time": "2020-09-30T02:16:49.793101Z"
    }
   },
   "outputs": [
    {
     "data": {
      "image/png": "[encoded data removed]",
      "text/plain": [
       "<Figure size 432x288 with 1 Axes>"
      ]
     },
     "metadata": {
      "needs_background": "light"
     },
     "output_type": "display_data"
    }
   ],
   "source": [
    "import matplotlib.pyplot as plt\n",
    "%matplotlib inline\n",
    "plt.hist(ques_len)\n",
    "plt.title('Question Length Distribution - First 100 examples')\n",
    "plt.show()"
   ]
  },
  {
   "cell_type": "code",
   "execution_count": 215,
   "metadata": {
    "ExecuteTime": {
     "end_time": "2020-09-30T02:16:50.019702Z",
     "start_time": "2020-09-30T02:16:49.919944Z"
    }
   },
   "outputs": [
    {
     "data": {
      "image/png": "[encoded data removed]",
      "text/plain": [
       "<Figure size 432x288 with 1 Axes>"
      ]
     },
     "metadata": {
      "needs_background": "light"
     },
     "output_type": "display_data"
    }
   ],
   "source": [
    "plt.hist(ans_len)\n",
    "plt.title('Answer Length Distribution - First 100 examples')\n",
    "plt.show()"
   ]
  },
  {
   "cell_type": "code",
   "execution_count": 216,
   "metadata": {
    "ExecuteTime": {
     "end_time": "2020-09-30T02:16:50.023017Z",
     "start_time": "2020-09-30T02:16:50.020646Z"
    }
   },
   "outputs": [
    {
     "name": "stdout",
     "output_type": "stream",
     "text": [
      "Average Length of text:  9.88\n"
     ]
    }
   ],
   "source": [
    "print(\"Average Length of text: \", sum(ques_len)/len(ques_len))"
   ]
  },
  {
   "cell_type": "code",
   "execution_count": 217,
   "metadata": {
    "ExecuteTime": {
     "end_time": "2020-09-30T02:16:50.029602Z",
     "start_time": "2020-09-30T02:16:50.023861Z"
    }
   },
   "outputs": [
    {
     "name": "stdout",
     "output_type": "stream",
     "text": [
      "Average Length of Summary:  1.77\n"
     ]
    }
   ],
   "source": [
    "print(\"Average Length of Summary: \", sum(ans_len)/len(ans_len))"
   ]
  },
  {
   "cell_type": "markdown",
   "metadata": {},
   "source": [
    "## Define Model"
   ]
  },
  {
   "cell_type": "code",
   "execution_count": 218,
   "metadata": {
    "ExecuteTime": {
     "end_time": "2020-09-30T02:16:50.035786Z",
     "start_time": "2020-09-30T02:16:50.030553Z"
    }
   },
   "outputs": [],
   "source": [
    "def set_seed(seed):\n",
    "    random.seed(seed)\n",
    "    np.random.seed(seed)\n",
    "    torch.manual_seed(seed)\n",
    "    if torch.cuda.is_available():\n",
    "        torch.cuda.manual_seed_all(seed)\n",
    "\n",
    "set_seed(42)"
   ]
  },
  {
   "cell_type": "code",
   "execution_count": 219,
   "metadata": {
    "ExecuteTime": {
     "end_time": "2020-09-30T02:16:50.042722Z",
     "start_time": "2020-09-30T02:16:50.036697Z"
    }
   },
   "outputs": [],
   "source": [
    "def normalize_answer(s):\n",
    "    \"\"\"Lower text and remove punctuation, articles and extra whitespace.\"\"\"\n",
    "\n",
    "    def remove_articles(text):\n",
    "        return re.sub(r\"\\b(a|an|the)\\b\", \" \", text)\n",
    "\n",
    "    def white_space_fix(text):\n",
    "        return \" \".join(text.split())\n",
    "\n",
    "    def remove_punc(text):\n",
    "        exclude = set(string.punctuation)\n",
    "        return \"\".join(ch for ch in text if ch not in exclude)\n",
    "\n",
    "    def lower(text):\n",
    "        return text.lower()\n",
    "\n",
    "    return white_space_fix(remove_articles(remove_punc(lower(s))))"
   ]
  },
  {
   "cell_type": "code",
   "execution_count": 220,
   "metadata": {
    "ExecuteTime": {
     "end_time": "2020-09-30T02:16:50.049200Z",
     "start_time": "2020-09-30T02:16:50.043691Z"
    }
   },
   "outputs": [],
   "source": [
    "def exact_match_score(prediction, ground_truth):\n",
    "    return int(normalize_answer(prediction) == normalize_answer(ground_truth))\n",
    "\n",
    "def approx_match_score(prediction, ground_truth):\n",
    "    answer = normalize_answer(prediction) \n",
    "    gt = normalize_answer(ground_truth)\n",
    "    match = 0\n",
    "    gt_words = gt.split(\" \")\n",
    "    for word in gt_words:\n",
    "        if word in answer:\n",
    "            match = 1\n",
    "            return match\n",
    "    return match"
   ]
  },
  {
   "cell_type": "code",
   "execution_count": 221,
   "metadata": {
    "ExecuteTime": {
     "end_time": "2020-09-30T02:16:50.058980Z",
     "start_time": "2020-09-30T02:16:50.050120Z"
    }
   },
   "outputs": [],
   "source": [
    "def calculate_scores(predictions, ground_truths):\n",
    "    em_score = 0\n",
    "    subset_match_score = 0\n",
    "    \n",
    "    for i in range(len(predictions)):\n",
    "        ground_truth = ground_truths[i]\n",
    "        prediction = predictions[i]\n",
    "        em_score +=  exact_match_score(prediction, ground_truth)\n",
    "        subset_match_score += approx_match_score(prediction, ground_truth)\n",
    "    \n",
    "    em_score /= len(predictions)\n",
    "    subset_match_score /= len(predictions)\n",
    "    return em_score*100, subset_match_score*100\n",
    "    "
   ]
  },
  {
   "cell_type": "code",
   "execution_count": 222,
   "metadata": {
    "ExecuteTime": {
     "end_time": "2020-09-30T02:16:50.086493Z",
     "start_time": "2020-09-30T02:16:50.060866Z"
    }
   },
   "outputs": [],
   "source": [
    "class T5FineTuner(pl.LightningModule):\n",
    "    def __init__(self, hparams):\n",
    "        super(T5FineTuner, self).__init__()\n",
    "        self.hparams = hparams\n",
    "#         self.config = T5Config(hparams.model_name_or_path,dropout_rate=0.2)\n",
    "        self.model = T5ForConditionalGeneration.from_pretrained(hparams.model_name_or_path)\n",
    "#         self.model.dropout_rate=0.2\n",
    "        self.tokenizer = T5Tokenizer.from_pretrained(hparams.tokenizer_name_or_path)\n",
    "        \n",
    "        if self.hparams.freeze_embeds:\n",
    "            self.freeze_embeds()\n",
    "        if self.hparams.freeze_encoder:\n",
    "            self.freeze_params(self.model.get_encoder())\n",
    "            assert_all_frozen(self.model.get_encoder())\n",
    "        \n",
    "        self.step_count = 0\n",
    "        self.output_dir = Path(self.hparams.output_dir)\n",
    "            \n",
    "        n_observations_per_split = {\n",
    "            \"train\": self.hparams.n_train,\n",
    "            \"validation\": self.hparams.n_val,\n",
    "            \"test\": self.hparams.n_test,\n",
    "        }\n",
    "        self.n_obs = {k: v if v >= 0 else None for k, v in n_observations_per_split.items()}\n",
    "        self.em_score_list = []\n",
    "        self.subset_score_list =[]\n",
    "    \n",
    "    def freeze_params(self, model):\n",
    "        for par in model.parameters():\n",
    "            par.requires_grad = False\n",
    "            \n",
    "            \n",
    "    def freeze_embeds(self):\n",
    "        \"\"\"Freeze token embeddings and positional embeddings for bart, just token embeddings for t5.\"\"\"\n",
    "        try:\n",
    "            self.freeze_params(self.model.model.shared)\n",
    "            for d in [self.model.model.encoder, self.model.model.decoder]:\n",
    "                freeze_params(d.embed_positions)\n",
    "                freeze_params(d.embed_tokens)\n",
    "        except AttributeError:\n",
    "            self.freeze_params(self.model.shared)\n",
    "            for d in [self.model.encoder, self.model.decoder]:\n",
    "                self.freeze_params(d.embed_tokens)\n",
    "    \n",
    "    def lmap(self, f, x):\n",
    "        \"\"\"list(map(f, x))\"\"\"\n",
    "        return list(map(f, x))\n",
    "    \n",
    "\n",
    "    def is_logger(self):\n",
    "        return self.trainer.proc_rank <= 0\n",
    "    \n",
    "        \n",
    "    def forward(\n",
    "      self, input_ids, attention_mask=None, decoder_input_ids=None, decoder_attention_mask=None, lm_labels=None\n",
    "  ):\n",
    "        return self.model(\n",
    "            input_ids,\n",
    "            attention_mask=attention_mask,\n",
    "            decoder_input_ids=decoder_input_ids,\n",
    "            decoder_attention_mask=decoder_attention_mask,\n",
    "            lm_labels=lm_labels,\n",
    "    )\n",
    "\n",
    "    def _step(self, batch):\n",
    "        lm_labels = batch[\"target_ids\"]\n",
    "        lm_labels[lm_labels[:, :] == self.tokenizer.pad_token_id] = -100\n",
    "\n",
    "        outputs = self(\n",
    "            input_ids=batch[\"source_ids\"],\n",
    "            attention_mask=batch[\"source_mask\"],\n",
    "            lm_labels=lm_labels,\n",
    "            decoder_attention_mask=batch['target_mask']\n",
    "        )\n",
    "\n",
    "        loss = outputs[0]\n",
    "\n",
    "        return loss\n",
    "    \n",
    "    \n",
    "    def ids_to_clean_text(self, generated_ids):\n",
    "        gen_text = self.tokenizer.batch_decode(\n",
    "            generated_ids, skip_special_tokens=True, clean_up_tokenization_spaces=True\n",
    "        )\n",
    "        return self.lmap(str.strip, gen_text)\n",
    "    \n",
    "    \n",
    "    def _generative_step(self, batch) :\n",
    "        \n",
    "        t0 = time.time()\n",
    "        \n",
    "        generated_ids = self.model.generate(\n",
    "            batch[\"source_ids\"],\n",
    "            attention_mask=batch[\"source_mask\"],\n",
    "            use_cache=True,\n",
    "            decoder_attention_mask=batch['target_mask'],\n",
    "            max_length=10,\n",
    "            num_beams=2,\n",
    "            early_stopping=True\n",
    "        )\n",
    "        preds = self.ids_to_clean_text(generated_ids)\n",
    "        targets = self.ids_to_clean_text(batch[\"target_ids\"])\n",
    "            \n",
    "        gen_time = (time.time() - t0) / batch[\"source_ids\"].shape[0]  \n",
    "    \n",
    "        loss = self._step(batch)\n",
    "        base_metrics = {'val_loss': loss}\n",
    "        summ_len = np.mean(self.lmap(len, generated_ids))\n",
    "        base_metrics.update(gen_time=gen_time, gen_len=summ_len, preds=preds, target=targets)\n",
    "        em_score, subset_match_score = calculate_scores(preds, targets)\n",
    "        \n",
    "        self.em_score_list.append(em_score)\n",
    "        self.subset_score_list.append(subset_match_score)\n",
    "        \n",
    "        em_score = torch.tensor(em_score,dtype=torch.float32)\n",
    "        subset_match_score = torch.tensor(subset_match_score,dtype=torch.float32)\n",
    "        \n",
    "        base_metrics.update(em_score=em_score, subset_match_score=subset_match_score)\n",
    "        \n",
    "#         rouge_results = self.rouge_metric.compute() \n",
    "#         rouge_dict = self.parse_score(rouge_results)\n",
    "\n",
    "        \n",
    "        return base_metrics\n",
    "    \n",
    "\n",
    "    def training_step(self, batch, batch_idx):\n",
    "        loss = self._step(batch)\n",
    "\n",
    "        tensorboard_logs = {\"train_loss\": loss}\n",
    "        return {\"loss\": loss, \"log\": tensorboard_logs}\n",
    "  \n",
    "    def training_epoch_end(self, outputs):\n",
    "        avg_train_loss = torch.stack([x[\"loss\"] for x in outputs]).mean()\n",
    "        tensorboard_logs = {\"avg_train_loss\": avg_train_loss}\n",
    "        return {\"avg_train_loss\": avg_train_loss, \"log\": tensorboard_logs, 'progress_bar': tensorboard_logs}\n",
    "\n",
    "    def validation_step(self, batch, batch_idx):\n",
    "        return self._generative_step(batch)\n",
    "    \n",
    "  \n",
    "    def validation_epoch_end(self, outputs):\n",
    "        \n",
    "        avg_loss = torch.stack([x[\"val_loss\"] for x in outputs]).mean()\n",
    "        tensorboard_logs = {\"val_loss\": avg_loss}\n",
    "        \n",
    "        if len(self.em_score_list) <= 2:\n",
    "            average_em_score = sum(self.em_score_list) / len(self.em_score_list) \n",
    "            average_subset_match_score = sum(self.subset_score_list)/len(self.subset_score_list)\n",
    "            \n",
    "        else:\n",
    "            latest_em_score = self.em_score_list[:-2]\n",
    "            latest_subset_score = self.subset_score_list[:-2]\n",
    "            average_em_score = sum(latest_em_score) / len(latest_em_score) \n",
    "            average_subset_match_score = sum(latest_subset_score)/len(latest_subset_score)\n",
    "            \n",
    "        \n",
    "        \n",
    "        average_em_score = torch.tensor(average_em_score,dtype=torch.float32)\n",
    "        average_subset_match_score = torch.tensor(average_subset_match_score,dtype=torch.float32)\n",
    "        tensorboard_logs.update(em_score=average_em_score, subset_match_score=average_subset_match_score)\n",
    "        \n",
    "        ## Clear out the lists for next epoch\n",
    "        self.target_gen= []\n",
    "        self.prediction_gen=[]\n",
    "        return {\"avg_val_loss\": avg_loss, \n",
    "                \"em_score\" : average_em_score,\n",
    "                \"subset_match_score\" : average_subset_match_score,\n",
    "                \"log\": tensorboard_logs, 'progress_bar': tensorboard_logs}\n",
    "\n",
    "    def configure_optimizers(self):\n",
    "        \"Prepare optimizer and schedule (linear warmup and decay)\"\n",
    "\n",
    "        model = self.model\n",
    "        no_decay = [\"bias\", \"LayerNorm.weight\"]\n",
    "        optimizer_grouped_parameters = [\n",
    "            {\n",
    "                \"params\": [p for n, p in model.named_parameters() if not any(nd in n for nd in no_decay)],\n",
    "                \"weight_decay\": self.hparams.weight_decay,\n",
    "            },\n",
    "            {\n",
    "                \"params\": [p for n, p in model.named_parameters() if any(nd in n for nd in no_decay)],\n",
    "                \"weight_decay\": 0.0,\n",
    "            },\n",
    "        ]\n",
    "        \n",
    "#         optimizer = AdamW(optimizer_grouped_parameters, lr=self.hparams.learning_rate, eps=self.hparams.adam_epsilon)\n",
    "        optimizer = Adafactor(optimizer_grouped_parameters, lr=self.hparams.learning_rate, scale_parameter=False,\n",
    "                             relative_step=False)\n",
    "        self.opt = optimizer\n",
    "        return [optimizer]\n",
    "  \n",
    "    def optimizer_step(self, epoch, batch_idx, optimizer, optimizer_idx, second_order_closure=None, using_native_amp=False):\n",
    "        if self.trainer.use_tpu:\n",
    "            xm.optimizer_step(optimizer)\n",
    "        else:\n",
    "            optimizer.step()\n",
    "        optimizer.zero_grad()\n",
    "        self.lr_scheduler.step()\n",
    "  \n",
    "    def get_tqdm_dict(self):\n",
    "        tqdm_dict = {\"loss\": \"{:.3f}\".format(self.trainer.avg_loss), \"lr\": self.lr_scheduler.get_last_lr()[-1]}\n",
    "\n",
    "        return tqdm_dict\n",
    "    \n",
    "\n",
    "    def train_dataloader(self):   \n",
    "        n_samples = self.n_obs['train']\n",
    "        train_dataset = get_dataset(tokenizer=self.tokenizer, type_path=\"train\", num_samples=n_samples, args=self.hparams)\n",
    "        sampler=RandomSampler(train_dataset)\n",
    "        dataloader = DataLoader(train_dataset, sampler=sampler,  batch_size=self.hparams.train_batch_size, drop_last=True, num_workers=4)\n",
    "        t_total = (\n",
    "            (len(dataloader.dataset) // (self.hparams.train_batch_size * max(1, self.hparams.n_gpu)))\n",
    "            // self.hparams.gradient_accumulation_steps\n",
    "            * float(self.hparams.num_train_epochs)\n",
    "        )\n",
    "        t_total = 100000\n",
    "        scheduler = get_linear_schedule_with_warmup(\n",
    "            self.opt, num_warmup_steps=self.hparams.warmup_steps, num_training_steps=t_total\n",
    "        )\n",
    "        self.lr_scheduler = scheduler\n",
    "        return dataloader\n",
    "\n",
    "    def val_dataloader(self):\n",
    "        n_samples = self.n_obs['validation']\n",
    "        \n",
    "        validation_dataset = get_dataset(tokenizer=self.tokenizer, type_path=\"validation\", num_samples=n_samples, args=self.hparams)\n",
    "        sampler=RandomSampler(validation_dataset)\n",
    "        return DataLoader(validation_dataset, batch_size=self.hparams.eval_batch_size, sampler =sampler, num_workers=4)\n",
    "    \n",
    "    \n",
    "    def test_dataloader(self):\n",
    "        n_samples = self.n_obs['test']\n",
    "        test_dataset = get_dataset(tokenizer=self.tokenizer, type_path=\"test\", num_samples=n_samples, args=self.hparams)\n",
    "        \n",
    "        return DataLoader(test_dataset, batch_size=self.hparams.eval_batch_size, num_workers=4)\n",
    "    \n",
    "    \n",
    "    def on_save_checkpoint(self, checkpoint):\n",
    "        save_path = self.output_dir.joinpath(\"best_tfmr\")\n",
    "        self.model.config.save_step = self.step_count\n",
    "        self.model.save_pretrained(save_path)\n",
    "        self.tokenizer.save_pretrained(save_path)"
   ]
  },
  {
   "cell_type": "code",
   "execution_count": 223,
   "metadata": {
    "ExecuteTime": {
     "end_time": "2020-09-30T02:16:50.093280Z",
     "start_time": "2020-09-30T02:16:50.087601Z"
    }
   },
   "outputs": [],
   "source": [
    "logger = logging.getLogger(__name__)\n",
    "\n",
    "class LoggingCallback(pl.Callback):\n",
    "    def on_validation_end(self, trainer, pl_module):\n",
    "        logger.info(\"***** Validation results *****\")\n",
    "        if pl_module.is_logger():\n",
    "            metrics = trainer.callback_metrics\n",
    "            # Log results\n",
    "            for key in sorted(metrics):\n",
    "                if key not in [\"log\", \"progress_bar\"]:\n",
    "                    logger.info(\"{} = {}\\n\".format(key, str(metrics[key])))\n",
    "\n",
    "    def on_test_end(self, trainer, pl_module):\n",
    "        logger.info(\"***** Test results *****\")\n",
    "\n",
    "        if pl_module.is_logger():\n",
    "            metrics = trainer.callback_metrics\n",
    "\n",
    "            # Log and save results to file\n",
    "            output_test_results_file = os.path.join(pl_module.hparams.output_dir, \"test_results.txt\")\n",
    "            with open(output_test_results_file, \"w\") as writer:\n",
    "                for key in sorted(metrics):\n",
    "                    if key not in [\"log\", \"progress_bar\"]:\n",
    "                        logger.info(\"{} = {}\\n\".format(key, str(metrics[key])))\n",
    "                        writer.write(\"{} = {}\\n\".format(key, str(metrics[key])))"
   ]
  },
  {
   "cell_type": "markdown",
   "metadata": {},
   "source": [
    "## Define a DataSet class for the loader"
   ]
  },
  {
   "cell_type": "code",
   "execution_count": 224,
   "metadata": {
    "ExecuteTime": {
     "end_time": "2020-09-30T02:16:50.101660Z",
     "start_time": "2020-09-30T02:16:50.094254Z"
    }
   },
   "outputs": [],
   "source": [
    "class Trivia_QA_Closedbook(Dataset):\n",
    "    def __init__(self, tokenizer, type_path, num_samples, input_length, output_length, print_text=False):         \n",
    "        self.dataset =  load_dataset('trivia_qa', 'unfiltered.nocontext', split=type_path)\n",
    "        if num_samples:\n",
    "            rand_indices = np.random.choice(self.dataset.shape[0], num_samples, replace=False)\n",
    "            self.dataset = self.dataset.select(list(rand_indices))\n",
    "        self.input_length = input_length\n",
    "        self.tokenizer = tokenizer\n",
    "        self.output_length = output_length\n",
    "        self.print_text = print_text\n",
    "  \n",
    "    def __len__(self):\n",
    "        return self.dataset.shape[0]\n",
    "    \n",
    "    def clean_text(self, text):\n",
    "        text = text.replace('Example of text:', '')\n",
    "        text = text.replace('Example of Summary:', '')\n",
    "        text = text.replace('\\n','')\n",
    "        text = text.replace('``', '')\n",
    "        text = text.replace('\"', '')\n",
    "        \n",
    "        return text\n",
    "    \n",
    "    \n",
    "    def convert_to_features(self, example_batch):\n",
    "        # Tokenize contexts and questions (as pairs of inputs)\n",
    "        \n",
    "        if self.print_text:\n",
    "            print(\"Input Text: \", self.clean_text(example_batch['question']))\n",
    "#         input_ = self.clean_text(example_batch['text']) + \" </s>\"\n",
    "#         target_ = self.clean_text(example_batch['headline']) + \" </s>\"\n",
    "        \n",
    "        input_ = self.clean_text(example_batch['question'])  \n",
    "        target_ = self.clean_text(example_batch['answer']['value'])  \n",
    "        \n",
    "        source = self.tokenizer.batch_encode_plus([input_], max_length=self.input_length, \n",
    "                                                     padding='max_length', truncation=True, return_tensors=\"pt\")\n",
    "        \n",
    "        targets = self.tokenizer.batch_encode_plus([target_], max_length=self.output_length, \n",
    "                                                     padding='max_length', truncation=True, return_tensors=\"pt\")\n",
    "    \n",
    "       \n",
    "        return source, targets\n",
    "  \n",
    "    def __getitem__(self, index):\n",
    "        source, targets = self.convert_to_features(self.dataset[index])\n",
    "        \n",
    "        source_ids = source[\"input_ids\"].squeeze()\n",
    "        target_ids = targets[\"input_ids\"].squeeze()\n",
    "\n",
    "        src_mask    = source[\"attention_mask\"].squeeze()\n",
    "        target_mask = targets[\"attention_mask\"].squeeze()\n",
    "\n",
    "        return {\"source_ids\": source_ids, \"source_mask\": src_mask, \"target_ids\": target_ids, \"target_mask\": target_mask}\n",
    "        \n",
    "  "
   ]
  },
  {
   "cell_type": "markdown",
   "metadata": {},
   "source": [
    "### Test the dataset function"
   ]
  },
  {
   "cell_type": "code",
   "execution_count": 225,
   "metadata": {
    "ExecuteTime": {
     "end_time": "2020-09-30T02:16:50.708768Z",
     "start_time": "2020-09-30T02:16:50.102627Z"
    }
   },
   "outputs": [
    {
     "data": {
      "text/plain": [
       "11313"
      ]
     },
     "execution_count": 225,
     "metadata": {},
     "output_type": "execute_result"
    }
   ],
   "source": [
    "tokenizer = T5Tokenizer.from_pretrained('t5-base')\n",
    "dataset = Trivia_QA_Closedbook(tokenizer, 'validation', None, 25, 10, True)\n",
    "len(dataset)"
   ]
  },
  {
   "cell_type": "code",
   "execution_count": 226,
   "metadata": {
    "ExecuteTime": {
     "end_time": "2020-09-30T02:16:50.717827Z",
     "start_time": "2020-09-30T02:16:50.710397Z"
    }
   },
   "outputs": [
    {
     "name": "stdout",
     "output_type": "stream",
     "text": [
      "Input Text:  Kagoshima international airport is in which country?\n",
      "\n",
      "Shape of Tokenized Text:  torch.Size([25])\n",
      "\n",
      "Sanity check - Decode Text:  Kagoshima international airport is in which country?\n",
      "====================================\n",
      "Sanity check - Decode Summary:  Japan\n"
     ]
    }
   ],
   "source": [
    "data = dataset[50]\n",
    "print()\n",
    "print(\"Shape of Tokenized Text: \", data['source_ids'].shape)\n",
    "print()\n",
    "print(\"Sanity check - Decode Text: \", tokenizer.decode(data['source_ids']))\n",
    "print(\"====================================\")\n",
    "print(\"Sanity check - Decode Summary: \", tokenizer.decode(data['target_ids']))"
   ]
  },
  {
   "cell_type": "markdown",
   "metadata": {},
   "source": [
    "## Define Arguments"
   ]
  },
  {
   "cell_type": "code",
   "execution_count": 227,
   "metadata": {
    "ExecuteTime": {
     "end_time": "2020-09-30T02:16:50.723462Z",
     "start_time": "2020-09-30T02:16:50.719135Z"
    }
   },
   "outputs": [],
   "source": [
    "args_dict = dict(\n",
    "    output_dir=\"\", # path to save the checkpoints\n",
    "    model_name_or_path='t5-base',\n",
    "    tokenizer_name_or_path='t5-base',\n",
    "    max_input_length=25,\n",
    "    max_output_length=10,\n",
    "    freeze_encoder=False,\n",
    "    freeze_embeds=False,\n",
    "    learning_rate=1e-5,\n",
    "    weight_decay=0.0,\n",
    "    adam_epsilon=1e-8,\n",
    "    warmup_steps=0,\n",
    "    train_batch_size=4,\n",
    "    eval_batch_size=4,\n",
    "    num_train_epochs=2,\n",
    "    gradient_accumulation_steps=10,\n",
    "    n_gpu=1,\n",
    "    resume_from_checkpoint=None, \n",
    "    val_check_interval = 0.5, \n",
    "    n_val=5000,\n",
    "    n_train=-1,\n",
    "    n_test=-1,\n",
    "    early_stop_callback=False,\n",
    "    fp_16=False, # if you want to enable 16-bit training then install apex and set this to true\n",
    "    opt_level='O1', # you can find out more on optimisation levels here https://nvidia.github.io/apex/amp.html#opt-levels-and-properties\n",
    "    max_grad_norm=1.0, # if you enable 16-bit training then set this to a sensible value, 0.5 is a good default\n",
    "    seed=101,\n",
    ")"
   ]
  },
  {
   "cell_type": "markdown",
   "metadata": {
    "ExecuteTime": {
     "end_time": "2020-09-22T20:38:51.721401Z",
     "start_time": "2020-09-22T20:38:51.492379Z"
    }
   },
   "source": [
    "!mkdir -p t5_trivia_qa_closedbook"
   ]
  },
  {
   "cell_type": "code",
   "execution_count": 228,
   "metadata": {
    "ExecuteTime": {
     "end_time": "2020-09-30T02:16:50.730274Z",
     "start_time": "2020-09-30T02:16:50.724667Z"
    }
   },
   "outputs": [
    {
     "name": "stdout",
     "output_type": "stream",
     "text": [
      "{'output_dir': 't5_trivia_qa_closedbook', 'model_name_or_path': 't5-base', 'tokenizer_name_or_path': 't5-base', 'max_input_length': 25, 'max_output_length': 10, 'freeze_encoder': False, 'freeze_embeds': False, 'learning_rate': 0.001, 'weight_decay': 0.0, 'adam_epsilon': 1e-08, 'warmup_steps': 0, 'train_batch_size': 48, 'eval_batch_size': 48, 'num_train_epochs': 150, 'gradient_accumulation_steps': 10, 'n_gpu': 1, 'resume_from_checkpoint': 't5_trivia_qa_closedbook/checkpointepoch=53.ckpt', 'val_check_interval': 0.5, 'n_val': 5000, 'n_train': -1, 'n_test': -1, 'early_stop_callback': False, 'fp_16': False, 'opt_level': 'O1', 'max_grad_norm': 1.0, 'seed': 101}\n"
     ]
    }
   ],
   "source": [
    "args_dict.update({'output_dir': 't5_trivia_qa_closedbook', 'num_train_epochs':150,\n",
    "                 'train_batch_size': 48, 'eval_batch_size': 48, 'learning_rate': 1e-3,\n",
    "                 'resume_from_checkpoint': 't5_trivia_qa_closedbook/checkpointepoch=53.ckpt'})\n",
    "args = argparse.Namespace(**args_dict)\n",
    "print(args_dict)"
   ]
  },
  {
   "cell_type": "code",
   "execution_count": 229,
   "metadata": {
    "ExecuteTime": {
     "end_time": "2020-09-30T02:16:50.736501Z",
     "start_time": "2020-09-30T02:16:50.731289Z"
    }
   },
   "outputs": [],
   "source": [
    "## Define Checkpoint function\n",
    "checkpoint_callback = pl.callbacks.ModelCheckpoint(\n",
    "    filepath=args.output_dir, prefix=\"checkpoint\", monitor=\"em_score\", mode=\"max\", save_top_k=1\n",
    ")\n",
    "\n",
    "## If resuming from checkpoint, add an arg resume_from_checkpoint\n",
    "train_params = dict(\n",
    "    accumulate_grad_batches=args.gradient_accumulation_steps,\n",
    "    gpus=args.n_gpu,\n",
    "    max_epochs=args.num_train_epochs,\n",
    "    early_stop_callback=False,\n",
    "    precision= 16 if args.fp_16 else 32,\n",
    "    amp_level=args.opt_level,\n",
    "    resume_from_checkpoint=args.resume_from_checkpoint,\n",
    "    gradient_clip_val=args.max_grad_norm,\n",
    "    checkpoint_callback=checkpoint_callback,\n",
    "    val_check_interval=args.val_check_interval,\n",
    "    logger=wandb_logger,\n",
    "    callbacks=[LoggingCallback()],\n",
    ")"
   ]
  },
  {
   "cell_type": "code",
   "execution_count": 230,
   "metadata": {
    "ExecuteTime": {
     "end_time": "2020-09-30T02:16:50.742698Z",
     "start_time": "2020-09-30T02:16:50.737468Z"
    }
   },
   "outputs": [],
   "source": [
    "def get_dataset(tokenizer, type_path, num_samples, args):\n",
    "      return Trivia_QA_Closedbook(tokenizer=tokenizer, type_path=type_path, num_samples=num_samples,  input_length=args.max_input_length, \n",
    "                        output_length=args.max_output_length)"
   ]
  },
  {
   "cell_type": "markdown",
   "metadata": {},
   "source": [
    "## Train Model"
   ]
  },
  {
   "cell_type": "code",
   "execution_count": 231,
   "metadata": {
    "ExecuteTime": {
     "end_time": "2020-09-30T02:16:55.885876Z",
     "start_time": "2020-09-30T02:16:50.743664Z"
    }
   },
   "outputs": [],
   "source": [
    "model = T5FineTuner(args)"
   ]
  },
  {
   "cell_type": "code",
   "execution_count": 232,
   "metadata": {
    "ExecuteTime": {
     "end_time": "2020-09-30T02:16:55.890446Z",
     "start_time": "2020-09-30T02:16:55.886816Z"
    }
   },
   "outputs": [
    {
     "name": "stderr",
     "output_type": "stream",
     "text": [
      "GPU available: True, used: True\n",
      "TPU available: False, using: 0 TPU cores\n",
      "CUDA_VISIBLE_DEVICES: [0]\n"
     ]
    }
   ],
   "source": [
    "trainer = pl.Trainer(**train_params)"
   ]
  },
  {
   "cell_type": "code",
   "execution_count": 233,
   "metadata": {
    "ExecuteTime": {
     "end_time": "2020-09-30T13:17:29.597096Z",
     "start_time": "2020-09-30T02:16:55.891613Z"
    }
   },
   "outputs": [
    {
     "data": {
      "text/html": [
       "\n",
       "                Logging results to <a href=\"https://wandb.com\" target=\"_blank\">Weights & Biases</a> <a href=\"https://docs.wandb.com/integrations/jupyter.html\" target=\"_blank\">(Documentation)</a>.<br/>\n",
       "                Project page: <a href=\"https://app.wandb.ai/pdwivedi/closedbook-triviaqa\" target=\"_blank\">https://app.wandb.ai/pdwivedi/closedbook-triviaqa</a><br/>\n",
       "                Run page: <a href=\"https://app.wandb.ai/pdwivedi/closedbook-triviaqa/runs/2gtm1zig\" target=\"_blank\">https://app.wandb.ai/pdwivedi/closedbook-triviaqa/runs/2gtm1zig</a><br/>\n",
       "            "
      ],
      "text/plain": [
       "<IPython.core.display.HTML object>"
      ]
     },
     "metadata": {},
     "output_type": "display_data"
    },
    {
     "name": "stderr",
     "output_type": "stream",
     "text": [
      "\u001b[34m\u001b[1mwandb\u001b[0m: Wandb version 0.10.4 is available!  To upgrade, please run:\n",
      "\u001b[34m\u001b[1mwandb\u001b[0m:  $ pip install wandb --upgrade\n",
      "\n",
      "  | Name  | Type                       | Params\n",
      "-----------------------------------------------------\n",
      "0 | model | T5ForConditionalGeneration | 222 M \n"
     ]
    },
    {
     "data": {
      "application/vnd.jupyter.widget-view+json": {
       "model_id": "",
       "version_major": 2,
       "version_minor": 0
      },
      "text/plain": [
       "HBox(children=(FloatProgress(value=1.0, bar_style='info', description='Validation sanity check', layout=Layout…"
      ]
     },
     "metadata": {},
     "output_type": "display_data"
    },
    {
     "data": {
      "application/vnd.jupyter.widget-view+json": {
       "model_id": "315eac6385bb4ca7a89dc4c93dfa3ccf",
       "version_major": 2,
       "version_minor": 0
      },
      "text/plain": [
       "HBox(children=(FloatProgress(value=1.0, bar_style='info', description='Training', layout=Layout(flex='2'), max…"
      ]
     },
     "metadata": {},
     "output_type": "display_data"
    },
    {
     "data": {
      "application/vnd.jupyter.widget-view+json": {
       "model_id": "",
       "version_major": 2,
       "version_minor": 0
      },
      "text/plain": [
       "HBox(children=(FloatProgress(value=1.0, bar_style='info', description='Validating', layout=Layout(flex='2'), m…"
      ]
     },
     "metadata": {},
     "output_type": "display_data"
    },
    {
     "data": {
      "application/vnd.jupyter.widget-view+json": {
       "model_id": "",
       "version_major": 2,
       "version_minor": 0
      },
      "text/plain": [
       "HBox(children=(FloatProgress(value=1.0, bar_style='info', description='Validating', layout=Layout(flex='2'), m…"
      ]
     },
     "metadata": {},
     "output_type": "display_data"
    },
    {
     "data": {
      "application/vnd.jupyter.widget-view+json": {
       "model_id": "",
       "version_major": 2,
       "version_minor": 0
      },
      "text/plain": [
       "HBox(children=(FloatProgress(value=1.0, bar_style='info', description='Validating', layout=Layout(flex='2'), m…"
      ]
     },
     "metadata": {},
     "output_type": "display_data"
    },
    {
     "data": {
      "application/vnd.jupyter.widget-view+json": {
       "model_id": "",
       "version_major": 2,
       "version_minor": 0
      },
      "text/plain": [
       "HBox(children=(FloatProgress(value=1.0, bar_style='info', description='Validating', layout=Layout(flex='2'), m…"
      ]
     },
     "metadata": {},
     "output_type": "display_data"
    },
    {
     "data": {
      "application/vnd.jupyter.widget-view+json": {
       "model_id": "",
       "version_major": 2,
       "version_minor": 0
      },
      "text/plain": [
       "HBox(children=(FloatProgress(value=1.0, bar_style='info', description='Validating', layout=Layout(flex='2'), m…"
      ]
     },
     "metadata": {},
     "output_type": "display_data"
    },
    {
     "data": {
      "application/vnd.jupyter.widget-view+json": {
       "model_id": "",
       "version_major": 2,
       "version_minor": 0
      },
      "text/plain": [
       "HBox(children=(FloatProgress(value=1.0, bar_style='info', description='Validating', layout=Layout(flex='2'), m…"
      ]
     },
     "metadata": {},
     "output_type": "display_data"
    },
    {
     "data": {
      "application/vnd.jupyter.widget-view+json": {
       "model_id": "",
       "version_major": 2,
       "version_minor": 0
      },
      "text/plain": [
       "HBox(children=(FloatProgress(value=1.0, bar_style='info', description='Validating', layout=Layout(flex='2'), m…"
      ]
     },
     "metadata": {},
     "output_type": "display_data"
    },
    {
     "data": {
      "application/vnd.jupyter.widget-view+json": {
       "model_id": "",
       "version_major": 2,
       "version_minor": 0
      },
      "text/plain": [
       "HBox(children=(FloatProgress(value=1.0, bar_style='info', description='Validating', layout=Layout(flex='2'), m…"
      ]
     },
     "metadata": {},
     "output_type": "display_data"
    },
    {
     "data": {
      "application/vnd.jupyter.widget-view+json": {
       "model_id": "",
       "version_major": 2,
       "version_minor": 0
      },
      "text/plain": [
       "HBox(children=(FloatProgress(value=1.0, bar_style='info', description='Validating', layout=Layout(flex='2'), m…"
      ]
     },
     "metadata": {},
     "output_type": "display_data"
    },
    {
     "data": {
      "application/vnd.jupyter.widget-view+json": {
       "model_id": "",
       "version_major": 2,
       "version_minor": 0
      },
      "text/plain": [
       "HBox(children=(FloatProgress(value=1.0, bar_style='info', description='Validating', layout=Layout(flex='2'), m…"
      ]
     },
     "metadata": {},
     "output_type": "display_data"
    },
    {
     "data": {
      "application/vnd.jupyter.widget-view+json": {
       "model_id": "",
       "version_major": 2,
       "version_minor": 0
      },
      "text/plain": [
       "HBox(children=(FloatProgress(value=1.0, bar_style='info', description='Validating', layout=Layout(flex='2'), m…"
      ]
     },
     "metadata": {},
     "output_type": "display_data"
    },
    {
     "data": {
      "application/vnd.jupyter.widget-view+json": {
       "model_id": "",
       "version_major": 2,
       "version_minor": 0
      },
      "text/plain": [
       "HBox(children=(FloatProgress(value=1.0, bar_style='info', description='Validating', layout=Layout(flex='2'), m…"
      ]
     },
     "metadata": {},
     "output_type": "display_data"
    },
    {
     "data": {
      "application/vnd.jupyter.widget-view+json": {
       "model_id": "",
       "version_major": 2,
       "version_minor": 0
      },
      "text/plain": [
       "HBox(children=(FloatProgress(value=1.0, bar_style='info', description='Validating', layout=Layout(flex='2'), m…"
      ]
     },
     "metadata": {},
     "output_type": "display_data"
    },
    {
     "data": {
      "application/vnd.jupyter.widget-view+json": {
       "model_id": "",
       "version_major": 2,
       "version_minor": 0
      },
      "text/plain": [
       "HBox(children=(FloatProgress(value=1.0, bar_style='info', description='Validating', layout=Layout(flex='2'), m…"
      ]
     },
     "metadata": {},
     "output_type": "display_data"
    },
    {
     "data": {
      "application/vnd.jupyter.widget-view+json": {
       "model_id": "",
       "version_major": 2,
       "version_minor": 0
      },
      "text/plain": [
       "HBox(children=(FloatProgress(value=1.0, bar_style='info', description='Validating', layout=Layout(flex='2'), m…"
      ]
     },
     "metadata": {},
     "output_type": "display_data"
    },
    {
     "data": {
      "application/vnd.jupyter.widget-view+json": {
       "model_id": "",
       "version_major": 2,
       "version_minor": 0
      },
      "text/plain": [
       "HBox(children=(FloatProgress(value=1.0, bar_style='info', description='Validating', layout=Layout(flex='2'), m…"
      ]
     },
     "metadata": {},
     "output_type": "display_data"
    },
    {
     "data": {
      "application/vnd.jupyter.widget-view+json": {
       "model_id": "",
       "version_major": 2,
       "version_minor": 0
      },
      "text/plain": [
       "HBox(children=(FloatProgress(value=1.0, bar_style='info', description='Validating', layout=Layout(flex='2'), m…"
      ]
     },
     "metadata": {},
     "output_type": "display_data"
    },
    {
     "data": {
      "application/vnd.jupyter.widget-view+json": {
       "model_id": "",
       "version_major": 2,
       "version_minor": 0
      },
      "text/plain": [
       "HBox(children=(FloatProgress(value=1.0, bar_style='info', description='Validating', layout=Layout(flex='2'), m…"
      ]
     },
     "metadata": {},
     "output_type": "display_data"
    },
    {
     "data": {
      "application/vnd.jupyter.widget-view+json": {
       "model_id": "",
       "version_major": 2,
       "version_minor": 0
      },
      "text/plain": [
       "HBox(children=(FloatProgress(value=1.0, bar_style='info', description='Validating', layout=Layout(flex='2'), m…"
      ]
     },
     "metadata": {},
     "output_type": "display_data"
    },
    {
     "data": {
      "application/vnd.jupyter.widget-view+json": {
       "model_id": "",
       "version_major": 2,
       "version_minor": 0
      },
      "text/plain": [
       "HBox(children=(FloatProgress(value=1.0, bar_style='info', description='Validating', layout=Layout(flex='2'), m…"
      ]
     },
     "metadata": {},
     "output_type": "display_data"
    },
    {
     "data": {
      "application/vnd.jupyter.widget-view+json": {
       "model_id": "",
       "version_major": 2,
       "version_minor": 0
      },
      "text/plain": [
       "HBox(children=(FloatProgress(value=1.0, bar_style='info', description='Validating', layout=Layout(flex='2'), m…"
      ]
     },
     "metadata": {},
     "output_type": "display_data"
    },
    {
     "data": {
      "application/vnd.jupyter.widget-view+json": {
       "model_id": "",
       "version_major": 2,
       "version_minor": 0
      },
      "text/plain": [
       "HBox(children=(FloatProgress(value=1.0, bar_style='info', description='Validating', layout=Layout(flex='2'), m…"
      ]
     },
     "metadata": {},
     "output_type": "display_data"
    },
    {
     "data": {
      "application/vnd.jupyter.widget-view+json": {
       "model_id": "",
       "version_major": 2,
       "version_minor": 0
      },
      "text/plain": [
       "HBox(children=(FloatProgress(value=1.0, bar_style='info', description='Validating', layout=Layout(flex='2'), m…"
      ]
     },
     "metadata": {},
     "output_type": "display_data"
    },
    {
     "data": {
      "application/vnd.jupyter.widget-view+json": {
       "model_id": "",
       "version_major": 2,
       "version_minor": 0
      },
      "text/plain": [
       "HBox(children=(FloatProgress(value=1.0, bar_style='info', description='Validating', layout=Layout(flex='2'), m…"
      ]
     },
     "metadata": {},
     "output_type": "display_data"
    },
    {
     "data": {
      "application/vnd.jupyter.widget-view+json": {
       "model_id": "",
       "version_major": 2,
       "version_minor": 0
      },
      "text/plain": [
       "HBox(children=(FloatProgress(value=1.0, bar_style='info', description='Validating', layout=Layout(flex='2'), m…"
      ]
     },
     "metadata": {},
     "output_type": "display_data"
    },
    {
     "data": {
      "application/vnd.jupyter.widget-view+json": {
       "model_id": "",
       "version_major": 2,
       "version_minor": 0
      },
      "text/plain": [
       "HBox(children=(FloatProgress(value=1.0, bar_style='info', description='Validating', layout=Layout(flex='2'), m…"
      ]
     },
     "metadata": {},
     "output_type": "display_data"
    },
    {
     "data": {
      "application/vnd.jupyter.widget-view+json": {
       "model_id": "",
       "version_major": 2,
       "version_minor": 0
      },
      "text/plain": [
       "HBox(children=(FloatProgress(value=1.0, bar_style='info', description='Validating', layout=Layout(flex='2'), m…"
      ]
     },
     "metadata": {},
     "output_type": "display_data"
    },
    {
     "data": {
      "application/vnd.jupyter.widget-view+json": {
       "model_id": "",
       "version_major": 2,
       "version_minor": 0
      },
      "text/plain": [
       "HBox(children=(FloatProgress(value=1.0, bar_style='info', description='Validating', layout=Layout(flex='2'), m…"
      ]
     },
     "metadata": {},
     "output_type": "display_data"
    },
    {
     "data": {
      "application/vnd.jupyter.widget-view+json": {
       "model_id": "",
       "version_major": 2,
       "version_minor": 0
      },
      "text/plain": [
       "HBox(children=(FloatProgress(value=1.0, bar_style='info', description='Validating', layout=Layout(flex='2'), m…"
      ]
     },
     "metadata": {},
     "output_type": "display_data"
    },
    {
     "data": {
      "application/vnd.jupyter.widget-view+json": {
       "model_id": "",
       "version_major": 2,
       "version_minor": 0
      },
      "text/plain": [
       "HBox(children=(FloatProgress(value=1.0, bar_style='info', description='Validating', layout=Layout(flex='2'), m…"
      ]
     },
     "metadata": {},
     "output_type": "display_data"
    },
    {
     "data": {
      "application/vnd.jupyter.widget-view+json": {
       "model_id": "",
       "version_major": 2,
       "version_minor": 0
      },
      "text/plain": [
       "HBox(children=(FloatProgress(value=1.0, bar_style='info', description='Validating', layout=Layout(flex='2'), m…"
      ]
     },
     "metadata": {},
     "output_type": "display_data"
    },
    {
     "data": {
      "application/vnd.jupyter.widget-view+json": {
       "model_id": "",
       "version_major": 2,
       "version_minor": 0
      },
      "text/plain": [
       "HBox(children=(FloatProgress(value=1.0, bar_style='info', description='Validating', layout=Layout(flex='2'), m…"
      ]
     },
     "metadata": {},
     "output_type": "display_data"
    },
    {
     "data": {
      "application/vnd.jupyter.widget-view+json": {
       "model_id": "",
       "version_major": 2,
       "version_minor": 0
      },
      "text/plain": [
       "HBox(children=(FloatProgress(value=1.0, bar_style='info', description='Validating', layout=Layout(flex='2'), m…"
      ]
     },
     "metadata": {},
     "output_type": "display_data"
    },
    {
     "data": {
      "application/vnd.jupyter.widget-view+json": {
       "model_id": "",
       "version_major": 2,
       "version_minor": 0
      },
      "text/plain": [
       "HBox(children=(FloatProgress(value=1.0, bar_style='info', description='Validating', layout=Layout(flex='2'), m…"
      ]
     },
     "metadata": {},
     "output_type": "display_data"
    },
    {
     "data": {
      "application/vnd.jupyter.widget-view+json": {
       "model_id": "",
       "version_major": 2,
       "version_minor": 0
      },
      "text/plain": [
       "HBox(children=(FloatProgress(value=1.0, bar_style='info', description='Validating', layout=Layout(flex='2'), m…"
      ]
     },
     "metadata": {},
     "output_type": "display_data"
    },
    {
     "data": {
      "application/vnd.jupyter.widget-view+json": {
       "model_id": "",
       "version_major": 2,
       "version_minor": 0
      },
      "text/plain": [
       "HBox(children=(FloatProgress(value=1.0, bar_style='info', description='Validating', layout=Layout(flex='2'), m…"
      ]
     },
     "metadata": {},
     "output_type": "display_data"
    },
    {
     "data": {
      "application/vnd.jupyter.widget-view+json": {
       "model_id": "",
       "version_major": 2,
       "version_minor": 0
      },
      "text/plain": [
       "HBox(children=(FloatProgress(value=1.0, bar_style='info', description='Validating', layout=Layout(flex='2'), m…"
      ]
     },
     "metadata": {},
     "output_type": "display_data"
    },
    {
     "data": {
      "application/vnd.jupyter.widget-view+json": {
       "model_id": "",
       "version_major": 2,
       "version_minor": 0
      },
      "text/plain": [
       "HBox(children=(FloatProgress(value=1.0, bar_style='info', description='Validating', layout=Layout(flex='2'), m…"
      ]
     },
     "metadata": {},
     "output_type": "display_data"
    },
    {
     "data": {
      "application/vnd.jupyter.widget-view+json": {
       "model_id": "",
       "version_major": 2,
       "version_minor": 0
      },
      "text/plain": [
       "HBox(children=(FloatProgress(value=1.0, bar_style='info', description='Validating', layout=Layout(flex='2'), m…"
      ]
     },
     "metadata": {},
     "output_type": "display_data"
    },
    {
     "data": {
      "application/vnd.jupyter.widget-view+json": {
       "model_id": "",
       "version_major": 2,
       "version_minor": 0
      },
      "text/plain": [
       "HBox(children=(FloatProgress(value=1.0, bar_style='info', description='Validating', layout=Layout(flex='2'), m…"
      ]
     },
     "metadata": {},
     "output_type": "display_data"
    },
    {
     "data": {
      "application/vnd.jupyter.widget-view+json": {
       "model_id": "",
       "version_major": 2,
       "version_minor": 0
      },
      "text/plain": [
       "HBox(children=(FloatProgress(value=1.0, bar_style='info', description='Validating', layout=Layout(flex='2'), m…"
      ]
     },
     "metadata": {},
     "output_type": "display_data"
    },
    {
     "data": {
      "application/vnd.jupyter.widget-view+json": {
       "model_id": "",
       "version_major": 2,
       "version_minor": 0
      },
      "text/plain": [
       "HBox(children=(FloatProgress(value=1.0, bar_style='info', description='Validating', layout=Layout(flex='2'), m…"
      ]
     },
     "metadata": {},
     "output_type": "display_data"
    },
    {
     "data": {
      "application/vnd.jupyter.widget-view+json": {
       "model_id": "",
       "version_major": 2,
       "version_minor": 0
      },
      "text/plain": [
       "HBox(children=(FloatProgress(value=1.0, bar_style='info', description='Validating', layout=Layout(flex='2'), m…"
      ]
     },
     "metadata": {},
     "output_type": "display_data"
    },
    {
     "data": {
      "application/vnd.jupyter.widget-view+json": {
       "model_id": "",
       "version_major": 2,
       "version_minor": 0
      },
      "text/plain": [
       "HBox(children=(FloatProgress(value=1.0, bar_style='info', description='Validating', layout=Layout(flex='2'), m…"
      ]
     },
     "metadata": {},
     "output_type": "display_data"
    },
    {
     "data": {
      "application/vnd.jupyter.widget-view+json": {
       "model_id": "",
       "version_major": 2,
       "version_minor": 0
      },
      "text/plain": [
       "HBox(children=(FloatProgress(value=1.0, bar_style='info', description='Validating', layout=Layout(flex='2'), m…"
      ]
     },
     "metadata": {},
     "output_type": "display_data"
    },
    {
     "data": {
      "application/vnd.jupyter.widget-view+json": {
       "model_id": "",
       "version_major": 2,
       "version_minor": 0
      },
      "text/plain": [
       "HBox(children=(FloatProgress(value=1.0, bar_style='info', description='Validating', layout=Layout(flex='2'), m…"
      ]
     },
     "metadata": {},
     "output_type": "display_data"
    },
    {
     "data": {
      "application/vnd.jupyter.widget-view+json": {
       "model_id": "",
       "version_major": 2,
       "version_minor": 0
      },
      "text/plain": [
       "HBox(children=(FloatProgress(value=1.0, bar_style='info', description='Validating', layout=Layout(flex='2'), m…"
      ]
     },
     "metadata": {},
     "output_type": "display_data"
    },
    {
     "data": {
      "application/vnd.jupyter.widget-view+json": {
       "model_id": "",
       "version_major": 2,
       "version_minor": 0
      },
      "text/plain": [
       "HBox(children=(FloatProgress(value=1.0, bar_style='info', description='Validating', layout=Layout(flex='2'), m…"
      ]
     },
     "metadata": {},
     "output_type": "display_data"
    },
    {
     "data": {
      "application/vnd.jupyter.widget-view+json": {
       "model_id": "",
       "version_major": 2,
       "version_minor": 0
      },
      "text/plain": [
       "HBox(children=(FloatProgress(value=1.0, bar_style='info', description='Validating', layout=Layout(flex='2'), m…"
      ]
     },
     "metadata": {},
     "output_type": "display_data"
    },
    {
     "data": {
      "application/vnd.jupyter.widget-view+json": {
       "model_id": "",
       "version_major": 2,
       "version_minor": 0
      },
      "text/plain": [
       "HBox(children=(FloatProgress(value=1.0, bar_style='info', description='Validating', layout=Layout(flex='2'), m…"
      ]
     },
     "metadata": {},
     "output_type": "display_data"
    },
    {
     "data": {
      "application/vnd.jupyter.widget-view+json": {
       "model_id": "",
       "version_major": 2,
       "version_minor": 0
      },
      "text/plain": [
       "HBox(children=(FloatProgress(value=1.0, bar_style='info', description='Validating', layout=Layout(flex='2'), m…"
      ]
     },
     "metadata": {},
     "output_type": "display_data"
    },
    {
     "data": {
      "application/vnd.jupyter.widget-view+json": {
       "model_id": "",
       "version_major": 2,
       "version_minor": 0
      },
      "text/plain": [
       "HBox(children=(FloatProgress(value=1.0, bar_style='info', description='Validating', layout=Layout(flex='2'), m…"
      ]
     },
     "metadata": {},
     "output_type": "display_data"
    },
    {
     "data": {
      "application/vnd.jupyter.widget-view+json": {
       "model_id": "",
       "version_major": 2,
       "version_minor": 0
      },
      "text/plain": [
       "HBox(children=(FloatProgress(value=1.0, bar_style='info', description='Validating', layout=Layout(flex='2'), m…"
      ]
     },
     "metadata": {},
     "output_type": "display_data"
    },
    {
     "data": {
      "application/vnd.jupyter.widget-view+json": {
       "model_id": "",
       "version_major": 2,
       "version_minor": 0
      },
      "text/plain": [
       "HBox(children=(FloatProgress(value=1.0, bar_style='info', description='Validating', layout=Layout(flex='2'), m…"
      ]
     },
     "metadata": {},
     "output_type": "display_data"
    },
    {
     "data": {
      "application/vnd.jupyter.widget-view+json": {
       "model_id": "",
       "version_major": 2,
       "version_minor": 0
      },
      "text/plain": [
       "HBox(children=(FloatProgress(value=1.0, bar_style='info', description='Validating', layout=Layout(flex='2'), m…"
      ]
     },
     "metadata": {},
     "output_type": "display_data"
    },
    {
     "data": {
      "application/vnd.jupyter.widget-view+json": {
       "model_id": "",
       "version_major": 2,
       "version_minor": 0
      },
      "text/plain": [
       "HBox(children=(FloatProgress(value=1.0, bar_style='info', description='Validating', layout=Layout(flex='2'), m…"
      ]
     },
     "metadata": {},
     "output_type": "display_data"
    },
    {
     "data": {
      "application/vnd.jupyter.widget-view+json": {
       "model_id": "",
       "version_major": 2,
       "version_minor": 0
      },
      "text/plain": [
       "HBox(children=(FloatProgress(value=1.0, bar_style='info', description='Validating', layout=Layout(flex='2'), m…"
      ]
     },
     "metadata": {},
     "output_type": "display_data"
    },
    {
     "data": {
      "application/vnd.jupyter.widget-view+json": {
       "model_id": "",
       "version_major": 2,
       "version_minor": 0
      },
      "text/plain": [
       "HBox(children=(FloatProgress(value=1.0, bar_style='info', description='Validating', layout=Layout(flex='2'), m…"
      ]
     },
     "metadata": {},
     "output_type": "display_data"
    },
    {
     "data": {
      "application/vnd.jupyter.widget-view+json": {
       "model_id": "",
       "version_major": 2,
       "version_minor": 0
      },
      "text/plain": [
       "HBox(children=(FloatProgress(value=1.0, bar_style='info', description='Validating', layout=Layout(flex='2'), m…"
      ]
     },
     "metadata": {},
     "output_type": "display_data"
    },
    {
     "data": {
      "application/vnd.jupyter.widget-view+json": {
       "model_id": "",
       "version_major": 2,
       "version_minor": 0
      },
      "text/plain": [
       "HBox(children=(FloatProgress(value=1.0, bar_style='info', description='Validating', layout=Layout(flex='2'), m…"
      ]
     },
     "metadata": {},
     "output_type": "display_data"
    },
    {
     "data": {
      "application/vnd.jupyter.widget-view+json": {
       "model_id": "",
       "version_major": 2,
       "version_minor": 0
      },
      "text/plain": [
       "HBox(children=(FloatProgress(value=1.0, bar_style='info', description='Validating', layout=Layout(flex='2'), m…"
      ]
     },
     "metadata": {},
     "output_type": "display_data"
    },
    {
     "data": {
      "application/vnd.jupyter.widget-view+json": {
       "model_id": "",
       "version_major": 2,
       "version_minor": 0
      },
      "text/plain": [
       "HBox(children=(FloatProgress(value=1.0, bar_style='info', description='Validating', layout=Layout(flex='2'), m…"
      ]
     },
     "metadata": {},
     "output_type": "display_data"
    },
    {
     "data": {
      "application/vnd.jupyter.widget-view+json": {
       "model_id": "",
       "version_major": 2,
       "version_minor": 0
      },
      "text/plain": [
       "HBox(children=(FloatProgress(value=1.0, bar_style='info', description='Validating', layout=Layout(flex='2'), m…"
      ]
     },
     "metadata": {},
     "output_type": "display_data"
    },
    {
     "data": {
      "application/vnd.jupyter.widget-view+json": {
       "model_id": "",
       "version_major": 2,
       "version_minor": 0
      },
      "text/plain": [
       "HBox(children=(FloatProgress(value=1.0, bar_style='info', description='Validating', layout=Layout(flex='2'), m…"
      ]
     },
     "metadata": {},
     "output_type": "display_data"
    },
    {
     "data": {
      "application/vnd.jupyter.widget-view+json": {
       "model_id": "",
       "version_major": 2,
       "version_minor": 0
      },
      "text/plain": [
       "HBox(children=(FloatProgress(value=1.0, bar_style='info', description='Validating', layout=Layout(flex='2'), m…"
      ]
     },
     "metadata": {},
     "output_type": "display_data"
    },
    {
     "data": {
      "application/vnd.jupyter.widget-view+json": {
       "model_id": "",
       "version_major": 2,
       "version_minor": 0
      },
      "text/plain": [
       "HBox(children=(FloatProgress(value=1.0, bar_style='info', description='Validating', layout=Layout(flex='2'), m…"
      ]
     },
     "metadata": {},
     "output_type": "display_data"
    },
    {
     "data": {
      "application/vnd.jupyter.widget-view+json": {
       "model_id": "",
       "version_major": 2,
       "version_minor": 0
      },
      "text/plain": [
       "HBox(children=(FloatProgress(value=1.0, bar_style='info', description='Validating', layout=Layout(flex='2'), m…"
      ]
     },
     "metadata": {},
     "output_type": "display_data"
    },
    {
     "data": {
      "application/vnd.jupyter.widget-view+json": {
       "model_id": "",
       "version_major": 2,
       "version_minor": 0
      },
      "text/plain": [
       "HBox(children=(FloatProgress(value=1.0, bar_style='info', description='Validating', layout=Layout(flex='2'), m…"
      ]
     },
     "metadata": {},
     "output_type": "display_data"
    },
    {
     "data": {
      "application/vnd.jupyter.widget-view+json": {
       "model_id": "",
       "version_major": 2,
       "version_minor": 0
      },
      "text/plain": [
       "HBox(children=(FloatProgress(value=1.0, bar_style='info', description='Validating', layout=Layout(flex='2'), m…"
      ]
     },
     "metadata": {},
     "output_type": "display_data"
    },
    {
     "data": {
      "application/vnd.jupyter.widget-view+json": {
       "model_id": "",
       "version_major": 2,
       "version_minor": 0
      },
      "text/plain": [
       "HBox(children=(FloatProgress(value=1.0, bar_style='info', description='Validating', layout=Layout(flex='2'), m…"
      ]
     },
     "metadata": {},
     "output_type": "display_data"
    },
    {
     "data": {
      "application/vnd.jupyter.widget-view+json": {
       "model_id": "",
       "version_major": 2,
       "version_minor": 0
      },
      "text/plain": [
       "HBox(children=(FloatProgress(value=1.0, bar_style='info', description='Validating', layout=Layout(flex='2'), m…"
      ]
     },
     "metadata": {},
     "output_type": "display_data"
    },
    {
     "data": {
      "application/vnd.jupyter.widget-view+json": {
       "model_id": "",
       "version_major": 2,
       "version_minor": 0
      },
      "text/plain": [
       "HBox(children=(FloatProgress(value=1.0, bar_style='info', description='Validating', layout=Layout(flex='2'), m…"
      ]
     },
     "metadata": {},
     "output_type": "display_data"
    },
    {
     "data": {
      "application/vnd.jupyter.widget-view+json": {
       "model_id": "",
       "version_major": 2,
       "version_minor": 0
      },
      "text/plain": [
       "HBox(children=(FloatProgress(value=1.0, bar_style='info', description='Validating', layout=Layout(flex='2'), m…"
      ]
     },
     "metadata": {},
     "output_type": "display_data"
    },
    {
     "data": {
      "application/vnd.jupyter.widget-view+json": {
       "model_id": "",
       "version_major": 2,
       "version_minor": 0
      },
      "text/plain": [
       "HBox(children=(FloatProgress(value=1.0, bar_style='info', description='Validating', layout=Layout(flex='2'), m…"
      ]
     },
     "metadata": {},
     "output_type": "display_data"
    },
    {
     "data": {
      "application/vnd.jupyter.widget-view+json": {
       "model_id": "",
       "version_major": 2,
       "version_minor": 0
      },
      "text/plain": [
       "HBox(children=(FloatProgress(value=1.0, bar_style='info', description='Validating', layout=Layout(flex='2'), m…"
      ]
     },
     "metadata": {},
     "output_type": "display_data"
    },
    {
     "data": {
      "application/vnd.jupyter.widget-view+json": {
       "model_id": "",
       "version_major": 2,
       "version_minor": 0
      },
      "text/plain": [
       "HBox(children=(FloatProgress(value=1.0, bar_style='info', description='Validating', layout=Layout(flex='2'), m…"
      ]
     },
     "metadata": {},
     "output_type": "display_data"
    },
    {
     "data": {
      "application/vnd.jupyter.widget-view+json": {
       "model_id": "",
       "version_major": 2,
       "version_minor": 0
      },
      "text/plain": [
       "HBox(children=(FloatProgress(value=1.0, bar_style='info', description='Validating', layout=Layout(flex='2'), m…"
      ]
     },
     "metadata": {},
     "output_type": "display_data"
    },
    {
     "data": {
      "application/vnd.jupyter.widget-view+json": {
       "model_id": "",
       "version_major": 2,
       "version_minor": 0
      },
      "text/plain": [
       "HBox(children=(FloatProgress(value=1.0, bar_style='info', description='Validating', layout=Layout(flex='2'), m…"
      ]
     },
     "metadata": {},
     "output_type": "display_data"
    },
    {
     "data": {
      "application/vnd.jupyter.widget-view+json": {
       "model_id": "",
       "version_major": 2,
       "version_minor": 0
      },
      "text/plain": [
       "HBox(children=(FloatProgress(value=1.0, bar_style='info', description='Validating', layout=Layout(flex='2'), m…"
      ]
     },
     "metadata": {},
     "output_type": "display_data"
    },
    {
     "data": {
      "application/vnd.jupyter.widget-view+json": {
       "model_id": "",
       "version_major": 2,
       "version_minor": 0
      },
      "text/plain": [
       "HBox(children=(FloatProgress(value=1.0, bar_style='info', description='Validating', layout=Layout(flex='2'), m…"
      ]
     },
     "metadata": {},
     "output_type": "display_data"
    },
    {
     "data": {
      "application/vnd.jupyter.widget-view+json": {
       "model_id": "",
       "version_major": 2,
       "version_minor": 0
      },
      "text/plain": [
       "HBox(children=(FloatProgress(value=1.0, bar_style='info', description='Validating', layout=Layout(flex='2'), m…"
      ]
     },
     "metadata": {},
     "output_type": "display_data"
    },
    {
     "data": {
      "application/vnd.jupyter.widget-view+json": {
       "model_id": "",
       "version_major": 2,
       "version_minor": 0
      },
      "text/plain": [
       "HBox(children=(FloatProgress(value=1.0, bar_style='info', description='Validating', layout=Layout(flex='2'), m…"
      ]
     },
     "metadata": {},
     "output_type": "display_data"
    },
    {
     "data": {
      "application/vnd.jupyter.widget-view+json": {
       "model_id": "",
       "version_major": 2,
       "version_minor": 0
      },
      "text/plain": [
       "HBox(children=(FloatProgress(value=1.0, bar_style='info', description='Validating', layout=Layout(flex='2'), m…"
      ]
     },
     "metadata": {},
     "output_type": "display_data"
    },
    {
     "data": {
      "application/vnd.jupyter.widget-view+json": {
       "model_id": "",
       "version_major": 2,
       "version_minor": 0
      },
      "text/plain": [
       "HBox(children=(FloatProgress(value=1.0, bar_style='info', description='Validating', layout=Layout(flex='2'), m…"
      ]
     },
     "metadata": {},
     "output_type": "display_data"
    },
    {
     "data": {
      "application/vnd.jupyter.widget-view+json": {
       "model_id": "",
       "version_major": 2,
       "version_minor": 0
      },
      "text/plain": [
       "HBox(children=(FloatProgress(value=1.0, bar_style='info', description='Validating', layout=Layout(flex='2'), m…"
      ]
     },
     "metadata": {},
     "output_type": "display_data"
    },
    {
     "data": {
      "application/vnd.jupyter.widget-view+json": {
       "model_id": "",
       "version_major": 2,
       "version_minor": 0
      },
      "text/plain": [
       "HBox(children=(FloatProgress(value=1.0, bar_style='info', description='Validating', layout=Layout(flex='2'), m…"
      ]
     },
     "metadata": {},
     "output_type": "display_data"
    },
    {
     "data": {
      "application/vnd.jupyter.widget-view+json": {
       "model_id": "",
       "version_major": 2,
       "version_minor": 0
      },
      "text/plain": [
       "HBox(children=(FloatProgress(value=1.0, bar_style='info', description='Validating', layout=Layout(flex='2'), m…"
      ]
     },
     "metadata": {},
     "output_type": "display_data"
    },
    {
     "data": {
      "application/vnd.jupyter.widget-view+json": {
       "model_id": "",
       "version_major": 2,
       "version_minor": 0
      },
      "text/plain": [
       "HBox(children=(FloatProgress(value=1.0, bar_style='info', description='Validating', layout=Layout(flex='2'), m…"
      ]
     },
     "metadata": {},
     "output_type": "display_data"
    },
    {
     "data": {
      "application/vnd.jupyter.widget-view+json": {
       "model_id": "",
       "version_major": 2,
       "version_minor": 0
      },
      "text/plain": [
       "HBox(children=(FloatProgress(value=1.0, bar_style='info', description='Validating', layout=Layout(flex='2'), m…"
      ]
     },
     "metadata": {},
     "output_type": "display_data"
    },
    {
     "data": {
      "application/vnd.jupyter.widget-view+json": {
       "model_id": "",
       "version_major": 2,
       "version_minor": 0
      },
      "text/plain": [
       "HBox(children=(FloatProgress(value=1.0, bar_style='info', description='Validating', layout=Layout(flex='2'), m…"
      ]
     },
     "metadata": {},
     "output_type": "display_data"
    },
    {
     "data": {
      "application/vnd.jupyter.widget-view+json": {
       "model_id": "",
       "version_major": 2,
       "version_minor": 0
      },
      "text/plain": [
       "HBox(children=(FloatProgress(value=1.0, bar_style='info', description='Validating', layout=Layout(flex='2'), m…"
      ]
     },
     "metadata": {},
     "output_type": "display_data"
    },
    {
     "data": {
      "application/vnd.jupyter.widget-view+json": {
       "model_id": "",
       "version_major": 2,
       "version_minor": 0
      },
      "text/plain": [
       "HBox(children=(FloatProgress(value=1.0, bar_style='info', description='Validating', layout=Layout(flex='2'), m…"
      ]
     },
     "metadata": {},
     "output_type": "display_data"
    },
    {
     "data": {
      "application/vnd.jupyter.widget-view+json": {
       "model_id": "",
       "version_major": 2,
       "version_minor": 0
      },
      "text/plain": [
       "HBox(children=(FloatProgress(value=1.0, bar_style='info', description='Validating', layout=Layout(flex='2'), m…"
      ]
     },
     "metadata": {},
     "output_type": "display_data"
    },
    {
     "data": {
      "application/vnd.jupyter.widget-view+json": {
       "model_id": "",
       "version_major": 2,
       "version_minor": 0
      },
      "text/plain": [
       "HBox(children=(FloatProgress(value=1.0, bar_style='info', description='Validating', layout=Layout(flex='2'), m…"
      ]
     },
     "metadata": {},
     "output_type": "display_data"
    },
    {
     "data": {
      "application/vnd.jupyter.widget-view+json": {
       "model_id": "",
       "version_major": 2,
       "version_minor": 0
      },
      "text/plain": [
       "HBox(children=(FloatProgress(value=1.0, bar_style='info', description='Validating', layout=Layout(flex='2'), m…"
      ]
     },
     "metadata": {},
     "output_type": "display_data"
    },
    {
     "data": {
      "application/vnd.jupyter.widget-view+json": {
       "model_id": "",
       "version_major": 2,
       "version_minor": 0
      },
      "text/plain": [
       "HBox(children=(FloatProgress(value=1.0, bar_style='info', description='Validating', layout=Layout(flex='2'), m…"
      ]
     },
     "metadata": {},
     "output_type": "display_data"
    },
    {
     "data": {
      "application/vnd.jupyter.widget-view+json": {
       "model_id": "",
       "version_major": 2,
       "version_minor": 0
      },
      "text/plain": [
       "HBox(children=(FloatProgress(value=1.0, bar_style='info', description='Validating', layout=Layout(flex='2'), m…"
      ]
     },
     "metadata": {},
     "output_type": "display_data"
    },
    {
     "data": {
      "application/vnd.jupyter.widget-view+json": {
       "model_id": "",
       "version_major": 2,
       "version_minor": 0
      },
      "text/plain": [
       "HBox(children=(FloatProgress(value=1.0, bar_style='info', description='Validating', layout=Layout(flex='2'), m…"
      ]
     },
     "metadata": {},
     "output_type": "display_data"
    },
    {
     "data": {
      "application/vnd.jupyter.widget-view+json": {
       "model_id": "",
       "version_major": 2,
       "version_minor": 0
      },
      "text/plain": [
       "HBox(children=(FloatProgress(value=1.0, bar_style='info', description='Validating', layout=Layout(flex='2'), m…"
      ]
     },
     "metadata": {},
     "output_type": "display_data"
    },
    {
     "data": {
      "application/vnd.jupyter.widget-view+json": {
       "model_id": "",
       "version_major": 2,
       "version_minor": 0
      },
      "text/plain": [
       "HBox(children=(FloatProgress(value=1.0, bar_style='info', description='Validating', layout=Layout(flex='2'), m…"
      ]
     },
     "metadata": {},
     "output_type": "display_data"
    },
    {
     "data": {
      "application/vnd.jupyter.widget-view+json": {
       "model_id": "",
       "version_major": 2,
       "version_minor": 0
      },
      "text/plain": [
       "HBox(children=(FloatProgress(value=1.0, bar_style='info', description='Validating', layout=Layout(flex='2'), m…"
      ]
     },
     "metadata": {},
     "output_type": "display_data"
    },
    {
     "data": {
      "application/vnd.jupyter.widget-view+json": {
       "model_id": "",
       "version_major": 2,
       "version_minor": 0
      },
      "text/plain": [
       "HBox(children=(FloatProgress(value=1.0, bar_style='info', description='Validating', layout=Layout(flex='2'), m…"
      ]
     },
     "metadata": {},
     "output_type": "display_data"
    },
    {
     "data": {
      "application/vnd.jupyter.widget-view+json": {
       "model_id": "",
       "version_major": 2,
       "version_minor": 0
      },
      "text/plain": [
       "HBox(children=(FloatProgress(value=1.0, bar_style='info', description='Validating', layout=Layout(flex='2'), m…"
      ]
     },
     "metadata": {},
     "output_type": "display_data"
    },
    {
     "data": {
      "application/vnd.jupyter.widget-view+json": {
       "model_id": "",
       "version_major": 2,
       "version_minor": 0
      },
      "text/plain": [
       "HBox(children=(FloatProgress(value=1.0, bar_style='info', description='Validating', layout=Layout(flex='2'), m…"
      ]
     },
     "metadata": {},
     "output_type": "display_data"
    },
    {
     "data": {
      "application/vnd.jupyter.widget-view+json": {
       "model_id": "",
       "version_major": 2,
       "version_minor": 0
      },
      "text/plain": [
       "HBox(children=(FloatProgress(value=1.0, bar_style='info', description='Validating', layout=Layout(flex='2'), m…"
      ]
     },
     "metadata": {},
     "output_type": "display_data"
    },
    {
     "data": {
      "application/vnd.jupyter.widget-view+json": {
       "model_id": "",
       "version_major": 2,
       "version_minor": 0
      },
      "text/plain": [
       "HBox(children=(FloatProgress(value=1.0, bar_style='info', description='Validating', layout=Layout(flex='2'), m…"
      ]
     },
     "metadata": {},
     "output_type": "display_data"
    },
    {
     "data": {
      "application/vnd.jupyter.widget-view+json": {
       "model_id": "",
       "version_major": 2,
       "version_minor": 0
      },
      "text/plain": [
       "HBox(children=(FloatProgress(value=1.0, bar_style='info', description='Validating', layout=Layout(flex='2'), m…"
      ]
     },
     "metadata": {},
     "output_type": "display_data"
    },
    {
     "data": {
      "application/vnd.jupyter.widget-view+json": {
       "model_id": "",
       "version_major": 2,
       "version_minor": 0
      },
      "text/plain": [
       "HBox(children=(FloatProgress(value=1.0, bar_style='info', description='Validating', layout=Layout(flex='2'), m…"
      ]
     },
     "metadata": {},
     "output_type": "display_data"
    },
    {
     "data": {
      "application/vnd.jupyter.widget-view+json": {
       "model_id": "",
       "version_major": 2,
       "version_minor": 0
      },
      "text/plain": [
       "HBox(children=(FloatProgress(value=1.0, bar_style='info', description='Validating', layout=Layout(flex='2'), m…"
      ]
     },
     "metadata": {},
     "output_type": "display_data"
    },
    {
     "data": {
      "application/vnd.jupyter.widget-view+json": {
       "model_id": "",
       "version_major": 2,
       "version_minor": 0
      },
      "text/plain": [
       "HBox(children=(FloatProgress(value=1.0, bar_style='info', description='Validating', layout=Layout(flex='2'), m…"
      ]
     },
     "metadata": {},
     "output_type": "display_data"
    },
    {
     "data": {
      "application/vnd.jupyter.widget-view+json": {
       "model_id": "",
       "version_major": 2,
       "version_minor": 0
      },
      "text/plain": [
       "HBox(children=(FloatProgress(value=1.0, bar_style='info', description='Validating', layout=Layout(flex='2'), m…"
      ]
     },
     "metadata": {},
     "output_type": "display_data"
    },
    {
     "data": {
      "application/vnd.jupyter.widget-view+json": {
       "model_id": "",
       "version_major": 2,
       "version_minor": 0
      },
      "text/plain": [
       "HBox(children=(FloatProgress(value=1.0, bar_style='info', description='Validating', layout=Layout(flex='2'), m…"
      ]
     },
     "metadata": {},
     "output_type": "display_data"
    },
    {
     "data": {
      "application/vnd.jupyter.widget-view+json": {
       "model_id": "",
       "version_major": 2,
       "version_minor": 0
      },
      "text/plain": [
       "HBox(children=(FloatProgress(value=1.0, bar_style='info', description='Validating', layout=Layout(flex='2'), m…"
      ]
     },
     "metadata": {},
     "output_type": "display_data"
    },
    {
     "data": {
      "application/vnd.jupyter.widget-view+json": {
       "model_id": "",
       "version_major": 2,
       "version_minor": 0
      },
      "text/plain": [
       "HBox(children=(FloatProgress(value=1.0, bar_style='info', description='Validating', layout=Layout(flex='2'), m…"
      ]
     },
     "metadata": {},
     "output_type": "display_data"
    },
    {
     "data": {
      "application/vnd.jupyter.widget-view+json": {
       "model_id": "",
       "version_major": 2,
       "version_minor": 0
      },
      "text/plain": [
       "HBox(children=(FloatProgress(value=1.0, bar_style='info', description='Validating', layout=Layout(flex='2'), m…"
      ]
     },
     "metadata": {},
     "output_type": "display_data"
    },
    {
     "data": {
      "application/vnd.jupyter.widget-view+json": {
       "model_id": "",
       "version_major": 2,
       "version_minor": 0
      },
      "text/plain": [
       "HBox(children=(FloatProgress(value=1.0, bar_style='info', description='Validating', layout=Layout(flex='2'), m…"
      ]
     },
     "metadata": {},
     "output_type": "display_data"
    },
    {
     "data": {
      "application/vnd.jupyter.widget-view+json": {
       "model_id": "",
       "version_major": 2,
       "version_minor": 0
      },
      "text/plain": [
       "HBox(children=(FloatProgress(value=1.0, bar_style='info', description='Validating', layout=Layout(flex='2'), m…"
      ]
     },
     "metadata": {},
     "output_type": "display_data"
    },
    {
     "data": {
      "application/vnd.jupyter.widget-view+json": {
       "model_id": "",
       "version_major": 2,
       "version_minor": 0
      },
      "text/plain": [
       "HBox(children=(FloatProgress(value=1.0, bar_style='info', description='Validating', layout=Layout(flex='2'), m…"
      ]
     },
     "metadata": {},
     "output_type": "display_data"
    },
    {
     "data": {
      "application/vnd.jupyter.widget-view+json": {
       "model_id": "",
       "version_major": 2,
       "version_minor": 0
      },
      "text/plain": [
       "HBox(children=(FloatProgress(value=1.0, bar_style='info', description='Validating', layout=Layout(flex='2'), m…"
      ]
     },
     "metadata": {},
     "output_type": "display_data"
    },
    {
     "data": {
      "application/vnd.jupyter.widget-view+json": {
       "model_id": "",
       "version_major": 2,
       "version_minor": 0
      },
      "text/plain": [
       "HBox(children=(FloatProgress(value=1.0, bar_style='info', description='Validating', layout=Layout(flex='2'), m…"
      ]
     },
     "metadata": {},
     "output_type": "display_data"
    },
    {
     "data": {
      "application/vnd.jupyter.widget-view+json": {
       "model_id": "",
       "version_major": 2,
       "version_minor": 0
      },
      "text/plain": [
       "HBox(children=(FloatProgress(value=1.0, bar_style='info', description='Validating', layout=Layout(flex='2'), m…"
      ]
     },
     "metadata": {},
     "output_type": "display_data"
    },
    {
     "data": {
      "application/vnd.jupyter.widget-view+json": {
       "model_id": "",
       "version_major": 2,
       "version_minor": 0
      },
      "text/plain": [
       "HBox(children=(FloatProgress(value=1.0, bar_style='info', description='Validating', layout=Layout(flex='2'), m…"
      ]
     },
     "metadata": {},
     "output_type": "display_data"
    },
    {
     "data": {
      "application/vnd.jupyter.widget-view+json": {
       "model_id": "",
       "version_major": 2,
       "version_minor": 0
      },
      "text/plain": [
       "HBox(children=(FloatProgress(value=1.0, bar_style='info', description='Validating', layout=Layout(flex='2'), m…"
      ]
     },
     "metadata": {},
     "output_type": "display_data"
    },
    {
     "data": {
      "application/vnd.jupyter.widget-view+json": {
       "model_id": "",
       "version_major": 2,
       "version_minor": 0
      },
      "text/plain": [
       "HBox(children=(FloatProgress(value=1.0, bar_style='info', description='Validating', layout=Layout(flex='2'), m…"
      ]
     },
     "metadata": {},
     "output_type": "display_data"
    },
    {
     "data": {
      "application/vnd.jupyter.widget-view+json": {
       "model_id": "",
       "version_major": 2,
       "version_minor": 0
      },
      "text/plain": [
       "HBox(children=(FloatProgress(value=1.0, bar_style='info', description='Validating', layout=Layout(flex='2'), m…"
      ]
     },
     "metadata": {},
     "output_type": "display_data"
    },
    {
     "data": {
      "application/vnd.jupyter.widget-view+json": {
       "model_id": "",
       "version_major": 2,
       "version_minor": 0
      },
      "text/plain": [
       "HBox(children=(FloatProgress(value=1.0, bar_style='info', description='Validating', layout=Layout(flex='2'), m…"
      ]
     },
     "metadata": {},
     "output_type": "display_data"
    },
    {
     "data": {
      "application/vnd.jupyter.widget-view+json": {
       "model_id": "",
       "version_major": 2,
       "version_minor": 0
      },
      "text/plain": [
       "HBox(children=(FloatProgress(value=1.0, bar_style='info', description='Validating', layout=Layout(flex='2'), m…"
      ]
     },
     "metadata": {},
     "output_type": "display_data"
    },
    {
     "data": {
      "application/vnd.jupyter.widget-view+json": {
       "model_id": "",
       "version_major": 2,
       "version_minor": 0
      },
      "text/plain": [
       "HBox(children=(FloatProgress(value=1.0, bar_style='info', description='Validating', layout=Layout(flex='2'), m…"
      ]
     },
     "metadata": {},
     "output_type": "display_data"
    },
    {
     "data": {
      "application/vnd.jupyter.widget-view+json": {
       "model_id": "",
       "version_major": 2,
       "version_minor": 0
      },
      "text/plain": [
       "HBox(children=(FloatProgress(value=1.0, bar_style='info', description='Validating', layout=Layout(flex='2'), m…"
      ]
     },
     "metadata": {},
     "output_type": "display_data"
    },
    {
     "data": {
      "application/vnd.jupyter.widget-view+json": {
       "model_id": "",
       "version_major": 2,
       "version_minor": 0
      },
      "text/plain": [
       "HBox(children=(FloatProgress(value=1.0, bar_style='info', description='Validating', layout=Layout(flex='2'), m…"
      ]
     },
     "metadata": {},
     "output_type": "display_data"
    },
    {
     "data": {
      "application/vnd.jupyter.widget-view+json": {
       "model_id": "",
       "version_major": 2,
       "version_minor": 0
      },
      "text/plain": [
       "HBox(children=(FloatProgress(value=1.0, bar_style='info', description='Validating', layout=Layout(flex='2'), m…"
      ]
     },
     "metadata": {},
     "output_type": "display_data"
    },
    {
     "data": {
      "application/vnd.jupyter.widget-view+json": {
       "model_id": "",
       "version_major": 2,
       "version_minor": 0
      },
      "text/plain": [
       "HBox(children=(FloatProgress(value=1.0, bar_style='info', description='Validating', layout=Layout(flex='2'), m…"
      ]
     },
     "metadata": {},
     "output_type": "display_data"
    },
    {
     "data": {
      "application/vnd.jupyter.widget-view+json": {
       "model_id": "",
       "version_major": 2,
       "version_minor": 0
      },
      "text/plain": [
       "HBox(children=(FloatProgress(value=1.0, bar_style='info', description='Validating', layout=Layout(flex='2'), m…"
      ]
     },
     "metadata": {},
     "output_type": "display_data"
    },
    {
     "data": {
      "application/vnd.jupyter.widget-view+json": {
       "model_id": "",
       "version_major": 2,
       "version_minor": 0
      },
      "text/plain": [
       "HBox(children=(FloatProgress(value=1.0, bar_style='info', description='Validating', layout=Layout(flex='2'), m…"
      ]
     },
     "metadata": {},
     "output_type": "display_data"
    },
    {
     "data": {
      "application/vnd.jupyter.widget-view+json": {
       "model_id": "",
       "version_major": 2,
       "version_minor": 0
      },
      "text/plain": [
       "HBox(children=(FloatProgress(value=1.0, bar_style='info', description='Validating', layout=Layout(flex='2'), m…"
      ]
     },
     "metadata": {},
     "output_type": "display_data"
    },
    {
     "data": {
      "application/vnd.jupyter.widget-view+json": {
       "model_id": "",
       "version_major": 2,
       "version_minor": 0
      },
      "text/plain": [
       "HBox(children=(FloatProgress(value=1.0, bar_style='info', description='Validating', layout=Layout(flex='2'), m…"
      ]
     },
     "metadata": {},
     "output_type": "display_data"
    },
    {
     "data": {
      "application/vnd.jupyter.widget-view+json": {
       "model_id": "",
       "version_major": 2,
       "version_minor": 0
      },
      "text/plain": [
       "HBox(children=(FloatProgress(value=1.0, bar_style='info', description='Validating', layout=Layout(flex='2'), m…"
      ]
     },
     "metadata": {},
     "output_type": "display_data"
    },
    {
     "data": {
      "application/vnd.jupyter.widget-view+json": {
       "model_id": "",
       "version_major": 2,
       "version_minor": 0
      },
      "text/plain": [
       "HBox(children=(FloatProgress(value=1.0, bar_style='info', description='Validating', layout=Layout(flex='2'), m…"
      ]
     },
     "metadata": {},
     "output_type": "display_data"
    },
    {
     "data": {
      "application/vnd.jupyter.widget-view+json": {
       "model_id": "",
       "version_major": 2,
       "version_minor": 0
      },
      "text/plain": [
       "HBox(children=(FloatProgress(value=1.0, bar_style='info', description='Validating', layout=Layout(flex='2'), m…"
      ]
     },
     "metadata": {},
     "output_type": "display_data"
    },
    {
     "data": {
      "application/vnd.jupyter.widget-view+json": {
       "model_id": "",
       "version_major": 2,
       "version_minor": 0
      },
      "text/plain": [
       "HBox(children=(FloatProgress(value=1.0, bar_style='info', description='Validating', layout=Layout(flex='2'), m…"
      ]
     },
     "metadata": {},
     "output_type": "display_data"
    },
    {
     "data": {
      "application/vnd.jupyter.widget-view+json": {
       "model_id": "",
       "version_major": 2,
       "version_minor": 0
      },
      "text/plain": [
       "HBox(children=(FloatProgress(value=1.0, bar_style='info', description='Validating', layout=Layout(flex='2'), m…"
      ]
     },
     "metadata": {},
     "output_type": "display_data"
    },
    {
     "data": {
      "application/vnd.jupyter.widget-view+json": {
       "model_id": "",
       "version_major": 2,
       "version_minor": 0
      },
      "text/plain": [
       "HBox(children=(FloatProgress(value=1.0, bar_style='info', description='Validating', layout=Layout(flex='2'), m…"
      ]
     },
     "metadata": {},
     "output_type": "display_data"
    },
    {
     "data": {
      "application/vnd.jupyter.widget-view+json": {
       "model_id": "",
       "version_major": 2,
       "version_minor": 0
      },
      "text/plain": [
       "HBox(children=(FloatProgress(value=1.0, bar_style='info', description='Validating', layout=Layout(flex='2'), m…"
      ]
     },
     "metadata": {},
     "output_type": "display_data"
    },
    {
     "data": {
      "application/vnd.jupyter.widget-view+json": {
       "model_id": "",
       "version_major": 2,
       "version_minor": 0
      },
      "text/plain": [
       "HBox(children=(FloatProgress(value=1.0, bar_style='info', description='Validating', layout=Layout(flex='2'), m…"
      ]
     },
     "metadata": {},
     "output_type": "display_data"
    },
    {
     "data": {
      "application/vnd.jupyter.widget-view+json": {
       "model_id": "",
       "version_major": 2,
       "version_minor": 0
      },
      "text/plain": [
       "HBox(children=(FloatProgress(value=1.0, bar_style='info', description='Validating', layout=Layout(flex='2'), m…"
      ]
     },
     "metadata": {},
     "output_type": "display_data"
    },
    {
     "data": {
      "application/vnd.jupyter.widget-view+json": {
       "model_id": "",
       "version_major": 2,
       "version_minor": 0
      },
      "text/plain": [
       "HBox(children=(FloatProgress(value=1.0, bar_style='info', description='Validating', layout=Layout(flex='2'), m…"
      ]
     },
     "metadata": {},
     "output_type": "display_data"
    },
    {
     "data": {
      "application/vnd.jupyter.widget-view+json": {
       "model_id": "",
       "version_major": 2,
       "version_minor": 0
      },
      "text/plain": [
       "HBox(children=(FloatProgress(value=1.0, bar_style='info', description='Validating', layout=Layout(flex='2'), m…"
      ]
     },
     "metadata": {},
     "output_type": "display_data"
    },
    {
     "data": {
      "application/vnd.jupyter.widget-view+json": {
       "model_id": "",
       "version_major": 2,
       "version_minor": 0
      },
      "text/plain": [
       "HBox(children=(FloatProgress(value=1.0, bar_style='info', description='Validating', layout=Layout(flex='2'), m…"
      ]
     },
     "metadata": {},
     "output_type": "display_data"
    },
    {
     "data": {
      "application/vnd.jupyter.widget-view+json": {
       "model_id": "",
       "version_major": 2,
       "version_minor": 0
      },
      "text/plain": [
       "HBox(children=(FloatProgress(value=1.0, bar_style='info', description='Validating', layout=Layout(flex='2'), m…"
      ]
     },
     "metadata": {},
     "output_type": "display_data"
    },
    {
     "data": {
      "application/vnd.jupyter.widget-view+json": {
       "model_id": "",
       "version_major": 2,
       "version_minor": 0
      },
      "text/plain": [
       "HBox(children=(FloatProgress(value=1.0, bar_style='info', description='Validating', layout=Layout(flex='2'), m…"
      ]
     },
     "metadata": {},
     "output_type": "display_data"
    },
    {
     "data": {
      "application/vnd.jupyter.widget-view+json": {
       "model_id": "",
       "version_major": 2,
       "version_minor": 0
      },
      "text/plain": [
       "HBox(children=(FloatProgress(value=1.0, bar_style='info', description='Validating', layout=Layout(flex='2'), m…"
      ]
     },
     "metadata": {},
     "output_type": "display_data"
    },
    {
     "data": {
      "application/vnd.jupyter.widget-view+json": {
       "model_id": "",
       "version_major": 2,
       "version_minor": 0
      },
      "text/plain": [
       "HBox(children=(FloatProgress(value=1.0, bar_style='info', description='Validating', layout=Layout(flex='2'), m…"
      ]
     },
     "metadata": {},
     "output_type": "display_data"
    },
    {
     "data": {
      "application/vnd.jupyter.widget-view+json": {
       "model_id": "",
       "version_major": 2,
       "version_minor": 0
      },
      "text/plain": [
       "HBox(children=(FloatProgress(value=1.0, bar_style='info', description='Validating', layout=Layout(flex='2'), m…"
      ]
     },
     "metadata": {},
     "output_type": "display_data"
    },
    {
     "data": {
      "application/vnd.jupyter.widget-view+json": {
       "model_id": "",
       "version_major": 2,
       "version_minor": 0
      },
      "text/plain": [
       "HBox(children=(FloatProgress(value=1.0, bar_style='info', description='Validating', layout=Layout(flex='2'), m…"
      ]
     },
     "metadata": {},
     "output_type": "display_data"
    },
    {
     "data": {
      "application/vnd.jupyter.widget-view+json": {
       "model_id": "",
       "version_major": 2,
       "version_minor": 0
      },
      "text/plain": [
       "HBox(children=(FloatProgress(value=1.0, bar_style='info', description='Validating', layout=Layout(flex='2'), m…"
      ]
     },
     "metadata": {},
     "output_type": "display_data"
    },
    {
     "data": {
      "application/vnd.jupyter.widget-view+json": {
       "model_id": "",
       "version_major": 2,
       "version_minor": 0
      },
      "text/plain": [
       "HBox(children=(FloatProgress(value=1.0, bar_style='info', description='Validating', layout=Layout(flex='2'), m…"
      ]
     },
     "metadata": {},
     "output_type": "display_data"
    },
    {
     "data": {
      "application/vnd.jupyter.widget-view+json": {
       "model_id": "",
       "version_major": 2,
       "version_minor": 0
      },
      "text/plain": [
       "HBox(children=(FloatProgress(value=1.0, bar_style='info', description='Validating', layout=Layout(flex='2'), m…"
      ]
     },
     "metadata": {},
     "output_type": "display_data"
    },
    {
     "data": {
      "application/vnd.jupyter.widget-view+json": {
       "model_id": "",
       "version_major": 2,
       "version_minor": 0
      },
      "text/plain": [
       "HBox(children=(FloatProgress(value=1.0, bar_style='info', description='Validating', layout=Layout(flex='2'), m…"
      ]
     },
     "metadata": {},
     "output_type": "display_data"
    },
    {
     "name": "stderr",
     "output_type": "stream",
     "text": [
      "Saving latest checkpoint..\n"
     ]
    },
    {
     "name": "stdout",
     "output_type": "stream",
     "text": [
      "\n"
     ]
    },
    {
     "data": {
      "text/plain": [
       "1"
      ]
     },
     "execution_count": 233,
     "metadata": {},
     "output_type": "execute_result"
    }
   ],
   "source": [
    "trainer.fit(model)"
   ]
  },
  {
   "cell_type": "markdown",
   "metadata": {},
   "source": [
    "## Check Model Predictions on Trivia Test Set"
   ]
  },
  {
   "cell_type": "code",
   "execution_count": 234,
   "metadata": {
    "ExecuteTime": {
     "end_time": "2020-09-30T13:17:33.772166Z",
     "start_time": "2020-09-30T13:17:33.768555Z"
    }
   },
   "outputs": [],
   "source": [
    "import textwrap\n",
    "from tqdm.auto import tqdm"
   ]
  },
  {
   "cell_type": "code",
   "execution_count": 235,
   "metadata": {
    "ExecuteTime": {
     "end_time": "2020-09-30T13:17:36.922720Z",
     "start_time": "2020-09-30T13:17:36.241365Z"
    }
   },
   "outputs": [],
   "source": [
    "tokenizer = T5Tokenizer.from_pretrained('t5-base')\n",
    "dataset = Trivia_QA_Closedbook(tokenizer, 'validation', None, 25, 10, False)"
   ]
  },
  {
   "cell_type": "code",
   "execution_count": 236,
   "metadata": {
    "ExecuteTime": {
     "end_time": "2020-09-30T13:17:39.528475Z",
     "start_time": "2020-09-30T13:17:39.499243Z"
    }
   },
   "outputs": [],
   "source": [
    "loader = DataLoader(dataset, batch_size=32, shuffle=True)\n",
    "it = iter(loader)"
   ]
  },
  {
   "cell_type": "code",
   "execution_count": 237,
   "metadata": {
    "ExecuteTime": {
     "end_time": "2020-09-30T13:17:42.627195Z",
     "start_time": "2020-09-30T13:17:42.555221Z"
    }
   },
   "outputs": [
    {
     "data": {
      "text/plain": [
       "torch.Size([32, 25])"
      ]
     },
     "execution_count": 237,
     "metadata": {},
     "output_type": "execute_result"
    }
   ],
   "source": [
    "batch = next(it)\n",
    "batch[\"source_ids\"].shape"
   ]
  },
  {
   "cell_type": "code",
   "execution_count": 238,
   "metadata": {
    "ExecuteTime": {
     "end_time": "2020-09-30T13:17:45.215943Z",
     "start_time": "2020-09-30T13:17:44.768220Z"
    }
   },
   "outputs": [],
   "source": [
    "model.to('cuda')\n",
    "outs = model.model.generate(\n",
    "            batch[\"source_ids\"].cuda(),\n",
    "            attention_mask=batch[\"source_mask\"].cuda(),\n",
    "            use_cache=True,\n",
    "            decoder_attention_mask=batch['target_mask'].cuda(),\n",
    "            max_length=10,\n",
    "            num_beams=2,\n",
    "            early_stopping=True\n",
    "        )\n",
    "\n",
    "dec = [tokenizer.decode(ids) for ids in outs]\n",
    "\n",
    "texts = [tokenizer.decode(ids) for ids in batch['source_ids']]\n",
    "targets = [tokenizer.decode(ids) for ids in batch['target_ids']]"
   ]
  },
  {
   "cell_type": "code",
   "execution_count": 239,
   "metadata": {
    "ExecuteTime": {
     "end_time": "2020-09-30T13:17:48.270784Z",
     "start_time": "2020-09-30T13:17:48.255338Z"
    },
    "scrolled": false
   },
   "outputs": [
    {
     "name": "stdout",
     "output_type": "stream",
     "text": [
      "Trivia Question: US veterinary pathologist Daniel Salmon (1850-1914) oversaw the discovery of what,\n",
      "named eponym\n",
      "\n",
      "Actual Answer: Salmonella\n",
      "\n",
      "Predicted Answer from T5: Undiscovered ancestor\n",
      "=====================================================================\n",
      "\n",
      "Trivia Question: What are the traditional words used to vote in the British House of Lords?\n",
      "\n",
      "Actual Answer: Content / Non content\n",
      "\n",
      "Predicted Answer from T5: Turn of the clock\n",
      "=====================================================================\n",
      "\n",
      "Trivia Question: Which American singer-songwriter wrote 'Sweet Baby James', the title track of his\n",
      "second album in\n",
      "\n",
      "Actual Answer: James Taylor\n",
      "\n",
      "Predicted Answer from T5: JEFFREY ARCHER\n",
      "=====================================================================\n",
      "\n",
      "Trivia Question: Released in 1962, which was the first of the 'Carry On....' films to be released in\n",
      "\n",
      "Actual Answer: 'CARRY ON CRUIS\n",
      "\n",
      "Predicted Answer from T5: 'CARRY ON SERGE\n",
      "=====================================================================\n",
      "\n",
      "Trivia Question: In January 1968 who was chosen as leader of the Communist Party in Czechoslovakia?\n",
      "\n",
      "Actual Answer: Alexander Dubcek\n",
      "\n",
      "Predicted Answer from T5: Radovan Karadzic\n",
      "=====================================================================\n",
      "\n",
      "Trivia Question: What was placed in Earth’s orbit by Discovery in 1990?\n",
      "\n",
      "Actual Answer: Hubble Telescope\n",
      "\n",
      "Predicted Answer from T5: Mars\n",
      "=====================================================================\n",
      "\n",
      "Trivia Question: Which English peer and courtier has been the most popular candidate proposed for\n",
      "the authorship of Shakespeare’s works?\n",
      "\n",
      "Actual Answer: Edward de Vere 17th Earl of Oxford\n",
      "\n",
      "Predicted Answer from T5: Sir Arthur Conan Doyle\n",
      "=====================================================================\n",
      "\n",
      "Trivia Question: 'An Island Parish' is a documentary series on BBC2, in which islands were the first\n",
      "four series set\n",
      "\n",
      "Actual Answer: Scilly Isles\n",
      "\n",
      "Predicted Answer from T5: Paragon\n",
      "=====================================================================\n",
      "\n",
      "Trivia Question: Which actress and singer's biography was entitled 'The Other Side Of The Rainbow'?\n",
      "\n",
      "Actual Answer: JUDY GARLAND\n",
      "\n",
      "Predicted Answer from T5: SANDRA BULLOCK\n",
      "=====================================================================\n",
      "\n",
      "Trivia Question: ‘Troilus and ‘who’ is the title of a play by William Shakespeare?\n",
      "\n",
      "Actual Answer: Cressida\n",
      "\n",
      "Predicted Answer from T5: Shrew\n",
      "=====================================================================\n",
      "\n",
      "Trivia Question: Which football team plays its home games at Portman Road?\n",
      "\n",
      "Actual Answer: Ipswich Town\n",
      "\n",
      "Predicted Answer from T5: Port Jackson\n",
      "=====================================================================\n",
      "\n",
      "Trivia Question: Which car was nicknamed 'The Tiddler' and the 'Baby Austin'?\n",
      "\n",
      "Actual Answer: AUSTIN SEVEN\n",
      "\n",
      "Predicted Answer from T5: Classic\n",
      "=====================================================================\n",
      "\n",
      "Trivia Question: The works of which dramatic writer feature at least 64 bird species including all\n",
      "seven British crows?\n",
      "\n",
      "Actual Answer: William Shakepeare\n",
      "\n",
      "Predicted Answer from T5: Edgar Allan Poe\n",
      "=====================================================================\n",
      "\n",
      "Trivia Question: By what name was the African state of Namibia previously known?\n",
      "\n",
      "Actual Answer: SOUTH-WEST AFRICA\n",
      "\n",
      "Predicted Answer from T5: ANGOLA\n",
      "=====================================================================\n",
      "\n",
      "Trivia Question: In which New York borough would you find Hell’s Kitchen?\n",
      "\n",
      "Actual Answer: Manhattan\n",
      "\n",
      "Predicted Answer from T5: Manhattan\n",
      "=====================================================================\n",
      "\n",
      "Trivia Question: In which country is the Mekong Delta?\n",
      "\n",
      "Actual Answer: Vietnam\n",
      "\n",
      "Predicted Answer from T5: THAILAND\n",
      "=====================================================================\n",
      "\n",
      "Trivia Question: What notorious outlaw was shot in the back by the coward Robert Ford?\n",
      "\n",
      "Actual Answer: Jesse James\n",
      "\n",
      "Predicted Answer from T5: Al Capone\n",
      "=====================================================================\n",
      "\n",
      "Trivia Question: Which daily newspaper was founded in 1903 by Alfred Harmsworth as a 'newspaper for\n",
      "women,\n",
      "\n",
      "Actual Answer: Daily Mirror\n",
      "\n",
      "Predicted Answer from T5: Daily Mirror\n",
      "=====================================================================\n",
      "\n",
      "Trivia Question: At which film festival could you be awarded the 'Palm d'Or'?\n",
      "\n",
      "Actual Answer: Cannes\n",
      "\n",
      "Predicted Answer from T5: Berlin\n",
      "=====================================================================\n",
      "\n",
      "Trivia Question: A year ago today saw an explosion on what Gulf of Mexico oil drilling platform,\n",
      "operated by BP?\n",
      "\n",
      "Actual Answer: Deepwater Horizon\n",
      "\n",
      "Predicted Answer from T5: Deepwater Horizon\n",
      "=====================================================================\n",
      "\n",
      "Trivia Question: Gibraltar is linked by ferry to which North African city?\n",
      "\n",
      "Actual Answer: Tangier\n",
      "\n",
      "Predicted Answer from T5: Tunis\n",
      "=====================================================================\n",
      "\n",
      "Trivia Question: Odysseus was King of which Greek state?\n",
      "\n",
      "Actual Answer: Ithaca\n",
      "\n",
      "Predicted Answer from T5: PYTHONY\n",
      "=====================================================================\n",
      "\n",
      "Trivia Question: A warm sunny period in Autumn (Fall) in the northern hemisphere is called an?\n",
      "\n",
      "Actual Answer: Indian Summer\n",
      "\n",
      "Predicted Answer from T5: Spring\n",
      "=====================================================================\n",
      "\n",
      "Trivia Question: Typically, a male moose sheds its antlers how frequently?\n",
      "\n",
      "Actual Answer: Every year\n",
      "\n",
      "Predicted Answer from T5: 1.5 to 2 metres\n",
      "=====================================================================\n",
      "\n",
      "Trivia Question: The Victorian producer Richard d'Oyly Carte is most associated with the staging of\n",
      "whose works?\n",
      "\n",
      "Actual Answer: GILBERT AND SULLIV\n",
      "\n",
      "Predicted Answer from T5: Cecil Rhodes\n",
      "=====================================================================\n",
      "\n",
      "Trivia Question: The United Nations Organisation UNHRC looks at what specific issue?\n",
      "\n",
      "Actual Answer: HUMAN RIGHTS\n",
      "\n",
      "Predicted Answer from T5: Global climate\n",
      "=====================================================================\n",
      "\n",
      "Trivia Question: In which US city do the basketball team known as the 'Trail Blazers' play their\n",
      "home games?\n",
      "\n",
      "Actual Answer: PORTLAND, Oregon\n",
      "\n",
      "Predicted Answer from T5: SHREWSBURY\n",
      "=====================================================================\n",
      "\n",
      "Trivia Question: BAFTA winning film The Theory of Everything is adapted from which book?\n",
      "\n",
      "Actual Answer: Travelling to Infinity: My Life with\n",
      "\n",
      "Predicted Answer from T5: Atlas Shrugged\n",
      "=====================================================================\n",
      "\n",
      "Trivia Question: The Suez Canal connects the Mediterranean Sea to which other Sea?\n",
      "\n",
      "Actual Answer: Red sea\n",
      "\n",
      "Predicted Answer from T5: Sea of Marmara\n",
      "=====================================================================\n",
      "\n",
      "Trivia Question: What name is given to a woman divorced, separated, or living away from her spouse?\n",
      "\n",
      "Actual Answer: Grass widow\n",
      "\n",
      "Predicted Answer from T5: divorce\n",
      "=====================================================================\n",
      "\n",
      "Trivia Question: In which conflict was the 'Battle Of The Saintes', in 1782?\n",
      "\n",
      "Actual Answer: AMERICAN WAR OF IND\n",
      "\n",
      "Predicted Answer from T5: THE BAY OF PIGS\n",
      "=====================================================================\n",
      "\n",
      "Trivia Question: Ecuador has a border with Peru and which other country?\n",
      "\n",
      "Actual Answer: Colombia\n",
      "\n",
      "Predicted Answer from T5: ARGENTINA\n",
      "=====================================================================\n",
      "\n"
     ]
    }
   ],
   "source": [
    "for i in range(10):\n",
    "    lines = textwrap.wrap(\"Trivia Question:\\n%s\\n\" % texts[i], width=100)\n",
    "    print(\"\\n\".join(lines))\n",
    "    print(\"\\nActual Answer: %s\" % targets[i])\n",
    "    print(\"\\nPredicted Answer from T5: %s\" % dec[i])\n",
    "    print(\"=====================================================================\\n\")"
   ]
  },
  {
   "cell_type": "markdown",
   "metadata": {},
   "source": [
    "## Testing using AutoModel loader"
   ]
  },
  {
   "cell_type": "code",
   "execution_count": null,
   "metadata": {
    "ExecuteTime": {
     "end_time": "2020-09-06T12:09:58.847269Z",
     "start_time": "2020-09-06T12:09:58.842207Z"
    }
   },
   "outputs": [],
   "source": [
    "from transformers import AutoTokenizer, AutoModelWithLMHead"
   ]
  },
  {
   "cell_type": "code",
   "execution_count": null,
   "metadata": {
    "ExecuteTime": {
     "end_time": "2020-09-06T12:10:01.759433Z",
     "start_time": "2020-09-06T12:09:58.850750Z"
    }
   },
   "outputs": [],
   "source": [
    "tokenizer = AutoTokenizer.from_pretrained(\"deep-learning-analytics/triviaqa-t5-base\")\n",
    "\n",
    "model = AutoModelWithLMHead.from_pretrained(\"deep-learning-analytics/triviaqa-t5-base\")"
   ]
  },
  {
   "cell_type": "code",
   "execution_count": 288,
   "metadata": {
    "ExecuteTime": {
     "end_time": "2020-09-30T16:07:47.283895Z",
     "start_time": "2020-09-30T16:07:47.184319Z"
    }
   },
   "outputs": [
    {
     "name": "stdout",
     "output_type": "stream",
     "text": [
      "Predicted Answer:  ['Himalayas']\n"
     ]
    }
   ],
   "source": [
    "text = \"Mount Everest is found in which mountain range?\"\n",
    "device = torch.device(\"cuda:0\" if torch.cuda.is_available() else \"cpu\")\n",
    "preprocess_text = text.strip().replace(\"\\n\",\"\")\n",
    "tokenized_text = tokenizer.encode(preprocess_text, return_tensors=\"pt\").to(device)\n",
    "model = model.to(device)\n",
    "\n",
    "outs = model.model.generate(\n",
    "            tokenized_text,\n",
    "            max_length=10,\n",
    "            num_beams=2,\n",
    "            early_stopping=True\n",
    "           )\n",
    "\n",
    "dec = [tokenizer.decode(ids) for ids in outs]\n",
    "print(\"Predicted Answer: \", dec)"
   ]
  },
  {
   "cell_type": "code",
   "execution_count": null,
   "metadata": {},
   "outputs": [],
   "source": []
  }
 ],
 "metadata": {
  "kernelspec": {
   "display_name": "Python 3.10.8 ('env': venv)",
   "language": "python",
   "name": "python3"
  },
  "language_info": {
   "codemirror_mode": {
    "name": "ipython",
    "version": 3
   },
   "file_extension": ".py",
   "mimetype": "text/x-python",
   "name": "python",
   "nbconvert_exporter": "python",
   "pygments_lexer": "ipython3",
   "version": "3.10.8"
  },
  "toc": {
   "base_numbering": 1,
   "nav_menu": {},
   "number_sections": true,
   "sideBar": true,
   "skip_h1_title": false,
   "title_cell": "Table of Contents",
   "title_sidebar": "Contents",
   "toc_cell": false,
   "toc_position": {},
   "toc_section_display": true,
   "toc_window_display": true
  },
  "vscode": {
   "interpreter": {
    "hash": "5d4aa1efc50afce3cd35c9fbb268c031d32f637ee7909f11fd44b0eb4fe3c523"
   }
  }
 },
 "nbformat": 4,
 "nbformat_minor": 4
}
